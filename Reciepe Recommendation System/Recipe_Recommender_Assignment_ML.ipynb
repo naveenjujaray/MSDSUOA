{
  "cells": [
    {
      "cell_type": "markdown",
      "metadata": {
        "id": "s6CCnknEPro6"
      },
      "source": [
        "\n",
        "\n",
        "**Assignment - Recommender System Assignment ML**\n",
        "\n",
        "**Deepak Raghavendra**\n"
      ]
    },
    {
      "cell_type": "markdown",
      "metadata": {
        "id": "liDyPz5MAfMN"
      },
      "source": [
        "**TASk 01 : Train Test Split**"
      ]
    },
    {
      "cell_type": "code",
      "execution_count": null,
      "metadata": {
        "id": "KQrgsfY7DO3p"
      },
      "outputs": [],
      "source": [
        "from pyspark.sql import SparkSession\n",
        "from pyspark.context import SparkContext"
      ]
    },
    {
      "cell_type": "code",
      "execution_count": null,
      "metadata": {
        "id": "_jUKd1_WDqFR"
      },
      "outputs": [],
      "source": [
        "spark = SparkSession.builder.master(\"App\").config('spark.ui.port', '4050').getOrCreate()"
      ]
    },
    {
      "cell_type": "code",
      "execution_count": null,
      "metadata": {
        "colab": {
          "base_uri": "https://localhost:8080/",
          "height": 219
        },
        "id": "d0TXUcujDtE3",
        "outputId": "f7221d57-f58e-41a5-83bc-e1008564f304"
      },
      "outputs": [
        {
          "data": {
            "text/html": [
              "\n",
              "            <div>\n",
              "                <p><b>SparkSession - in-memory</b></p>\n",
              "                \n",
              "        <div>\n",
              "            <p><b>SparkContext</b></p>\n",
              "\n",
              "            <p><a href=\"http://af492d875fab:4050\">Spark UI</a></p>\n",
              "\n",
              "            <dl>\n",
              "              <dt>Version</dt>\n",
              "                <dd><code>v3.1.2</code></dd>\n",
              "              <dt>Master</dt>\n",
              "                <dd><code>local</code></dd>\n",
              "              <dt>AppName</dt>\n",
              "                <dd><code>pyspark-shell</code></dd>\n",
              "            </dl>\n",
              "        </div>\n",
              "        \n",
              "            </div>\n",
              "        "
            ],
            "text/plain": [
              "<pyspark.sql.session.SparkSession at 0x7f2198f860d0>"
            ]
          },
          "execution_count": 6,
          "metadata": {},
          "output_type": "execute_result"
        }
      ],
      "source": [
        "spark"
      ]
    },
    {
      "cell_type": "markdown",
      "metadata": {
        "id": "TC-tlk81D5CK"
      },
      "source": [
        "**Importing the Libraries**"
      ]
    },
    {
      "cell_type": "code",
      "execution_count": null,
      "metadata": {
        "id": "lX_2AtZVD-KY"
      },
      "outputs": [],
      "source": [
        "import pandas as pd \n",
        "import numpy as np\n",
        "\n",
        "from pyspark.sql import functions as F\n",
        "# Import for typecasting columns\n",
        "from pyspark.sql.types import IntegerType,BooleanType,DateType,FloatType,StringType, ArrayType"
      ]
    },
    {
      "cell_type": "code",
      "execution_count": null,
      "metadata": {
        "id": "-0GMWeA3EAaf"
      },
      "outputs": [],
      "source": [
        "raw_ratings_df = (spark.read.csv(\"raw_ratings_small.csv\",\n",
        "                                 header=True, \n",
        "                                 inferSchema= True))"
      ]
    },
    {
      "cell_type": "code",
      "execution_count": null,
      "metadata": {
        "id": "X_OFrc1FGuJ5"
      },
      "outputs": [],
      "source": [
        "raw_recipes_df = spark.read.csv(\"raw_recipies_small.csv\",\n",
        "                                header=True, \n",
        "                                inferSchema=True)"
      ]
    },
    {
      "cell_type": "code",
      "execution_count": null,
      "metadata": {
        "id": "rHZPszbQG0mH"
      },
      "outputs": [],
      "source": [
        "assert (raw_recipes_df.count(), len(raw_recipes_df.columns)) == (20340, 13)\n",
        "assert (raw_ratings_df.count(), len(raw_ratings_df.columns)) == (93357, 5)"
      ]
    },
    {
      "cell_type": "code",
      "execution_count": null,
      "metadata": {
        "id": "c6f0y4M8Hv6g"
      },
      "outputs": [],
      "source": [
        "#finding the data points in the dataset\n",
        "num_review_int=raw_ratings_df.count()"
      ]
    },
    {
      "cell_type": "code",
      "execution_count": null,
      "metadata": {
        "colab": {
          "base_uri": "https://localhost:8080/"
        },
        "id": "w67ANrYDI1Ox",
        "outputId": "89e902bc-ebbf-4d47-9c67-04d7996948ff"
      },
      "outputs": [
        {
          "data": {
            "text/plain": [
              "93357"
            ]
          },
          "execution_count": 12,
          "metadata": {},
          "output_type": "execute_result"
        }
      ],
      "source": [
        "num_review_int"
      ]
    },
    {
      "cell_type": "code",
      "execution_count": null,
      "metadata": {
        "id": "k0SbrGHVI4Dh"
      },
      "outputs": [],
      "source": [
        "test_num_reviews_int = round(num_review_int *0.2)"
      ]
    },
    {
      "cell_type": "code",
      "execution_count": null,
      "metadata": {
        "id": "As5x4pNLNgms"
      },
      "outputs": [],
      "source": [
        "temp_ratings_df = (raw_ratings_df.sort(\"review_date\", ascending=False)\n",
        "                                 .limit(test_num_reviews_int)\n",
        "                  )"
      ]
    },
    {
      "cell_type": "code",
      "execution_count": null,
      "metadata": {
        "id": "JzXj66pkNjEm"
      },
      "outputs": [],
      "source": [
        "assert temp_ratings_df.count()  == 18671\n",
        "assert raw_recipes_df.collect()[11][4] <= raw_recipes_df.collect()[10][4]"
      ]
    },
    {
      "cell_type": "code",
      "execution_count": null,
      "metadata": {
        "colab": {
          "base_uri": "https://localhost:8080/",
          "height": 35
        },
        "id": "2pteSDl4NmR_",
        "outputId": "f7c4b72b-5097-4ff2-a1ca-a2ff22e25ec7"
      },
      "outputs": [
        {
          "data": {
            "application/vnd.google.colaboratory.intrinsic+json": {
              "type": "string"
            },
            "text/plain": [
              "'2011-07-17'"
            ]
          },
          "execution_count": 16,
          "metadata": {},
          "output_type": "execute_result"
        }
      ],
      "source": [
        "temp_ratings_df.collect()[-1][4]"
      ]
    },
    {
      "cell_type": "code",
      "execution_count": null,
      "metadata": {
        "colab": {
          "base_uri": "https://localhost:8080/"
        },
        "id": "QshXoH2jNrM3",
        "outputId": "88d99cc7-a17d-420b-f1c5-019d46231796"
      },
      "outputs": [
        {
          "name": "stdout",
          "output_type": "stream",
          "text": [
            "+--------------------+-----+-------+--------------+----------+--------------------+--------------------+-------+--------------------+--------------------+--------------------+-------------+--------------+\n",
            "|                name|   id|minutes|contributor_id| submitted|                tags|           nutrition|n_steps|               steps|         description|         ingredients|n_ingredients|year_of_review|\n",
            "+--------------------+-----+-------+--------------+----------+--------------------+--------------------+-------+--------------------+--------------------+--------------------+-------------+--------------+\n",
            "|beat this  banana...|75452|     70|         15892|2003-11-04|['weeknight', 'ti...|[2669.3, 160.0, 9...|     12|['preheat oven to...|  from ann hodgman's|['sugar', 'unsalt...|            9|          2003|\n",
            "|      chinese  candy|23933|     15|         35268|2002-03-29|['15-minutes-or-l...|[232.7, 21.0, 77....|      4|['melt butterscot...|a little differen...|['butterscotch ch...|            3|          2002|\n",
            "|cream  of caulifl...|23850|    110|          3288|2002-03-28|['lactose', 'week...|[174.2, 4.0, 24.0...|     10|['heat the oil or...|this is a dairy free|['canola oil', 'o...|           16|          2002|\n",
            "|cream  of spinach...|76808|     45|         95743|2003-11-17|['60-minutes-or-l...|[126.0, 11.0, 2.0...|      9|['bring water and...|wonderful comfort...|['water', 'salt',...|            8|          2003|\n",
            "|i can t believe i...|33165|     30|         40493|2002-07-04|['30-minutes-or-l...|[152.5, 2.0, 20.0...|     12|['cut potatoes in...|the name says it ...|['red potatoes', ...|           13|          2002|\n",
            "+--------------------+-----+-------+--------------+----------+--------------------+--------------------+-------+--------------------+--------------------+--------------------+-------------+--------------+\n",
            "only showing top 5 rows\n",
            "\n"
          ]
        }
      ],
      "source": [
        "#showing the data for raw_recipes\n",
        "raw_recipes_df.show(5)"
      ]
    },
    {
      "cell_type": "code",
      "execution_count": null,
      "metadata": {
        "colab": {
          "base_uri": "https://localhost:8080/"
        },
        "id": "I4yqBokfajo2",
        "outputId": "399912d8-b4f5-4a5b-ebc7-c0706f029fd2"
      },
      "outputs": [
        {
          "name": "stdout",
          "output_type": "stream",
          "text": [
            "+-------+---------+------+--------------------+-----------+\n",
            "|user_id|recipe_id|rating|              review|review_date|\n",
            "+-------+---------+------+--------------------+-----------+\n",
            "| 483827|   306785|     5|Being a  huge fan...| 2008-07-15|\n",
            "|   6258|    20930|     5|Jan  what an inte...| 2002-07-09|\n",
            "| 102602|    20930|     5|Jan  we love your...| 2003-10-26|\n",
            "| 296027|   182985|     4|Very nice fresh s...| 2007-05-19|\n",
            "|   9580|   208980|     5|I saw this on 30 ...| 2007-02-05|\n",
            "+-------+---------+------+--------------------+-----------+\n",
            "only showing top 5 rows\n",
            "\n"
          ]
        }
      ],
      "source": [
        "#showing the data for raw_ratings\n",
        "raw_ratings_df.show(5)"
      ]
    },
    {
      "cell_type": "code",
      "execution_count": null,
      "metadata": {
        "colab": {
          "base_uri": "https://localhost:8080/"
        },
        "id": "tssxZESca5tf",
        "outputId": "318126ca-3880-4d66-ffa6-2be89e62d0ae"
      },
      "outputs": [
        {
          "name": "stdout",
          "output_type": "stream",
          "text": [
            "+----------+---------+------+--------------------+-----------+\n",
            "|   user_id|recipe_id|rating|              review|review_date|\n",
            "+----------+---------+------+--------------------+-----------+\n",
            "|2000498330|   314535|     5|Delicious  bright...| 2018-12-19|\n",
            "|2002296817|   307469|     0|I'm telling you r...| 2018-12-19|\n",
            "|2001355121|   232811|     3|It was too acidic...| 2018-12-19|\n",
            "|2002178501|    51803|     5|Omg this was the ...| 2018-12-19|\n",
            "|2002367593|   209317|     5|I enjoy the sauce...| 2018-12-18|\n",
            "+----------+---------+------+--------------------+-----------+\n",
            "only showing top 5 rows\n",
            "\n"
          ]
        }
      ],
      "source": [
        "temp_ratings_df.show(5)"
      ]
    },
    {
      "cell_type": "code",
      "execution_count": null,
      "metadata": {
        "id": "Kjfq6G_zd2qL"
      },
      "outputs": [],
      "source": [
        "interaction_level_df = raw_ratings_df.join(\n",
        "                                           raw_recipes_df,# dataframe 2, \n",
        "                                           raw_ratings_df.recipe_id==raw_recipes_df.id,# key to join \n",
        "                                           how=\"left\"# how to join    \n",
        "                                          )"
      ]
    },
    {
      "cell_type": "code",
      "execution_count": null,
      "metadata": {
        "colab": {
          "base_uri": "https://localhost:8080/"
        },
        "id": "Lo2wDkPKfXDh",
        "outputId": "21f5898a-3f27-4d1d-d362-9177b6ed70b7"
      },
      "outputs": [
        {
          "name": "stdout",
          "output_type": "stream",
          "text": [
            "+----------+---------+------+--------------------+-----------+--------------------+-----+-------+--------------+----------+--------------------+--------------------+-------+--------------------+--------------------+--------------------+-------------+\n",
            "|   user_id|recipe_id|rating|              review|review_date|                name|   id|minutes|contributor_id| submitted|                tags|           nutrition|n_steps|               steps|         description|         ingredients|n_ingredients|\n",
            "+----------+---------+------+--------------------+-----------+--------------------+-----+-------+--------------+----------+--------------------+--------------------+-------+--------------------+--------------------+--------------------+-------------+\n",
            "|    152552|    29601|     5|Excellent. It was...| 2004-08-20|zippy cold spicy ...|29601|    270|         30367|2002-05-29|['time-to-make', ...|[277.2, 15.0, 13....|     12|['in a heavy 10-i...|shrimp drink in t...|['oil', 'medium s...|           11|\n",
            "|     16334|    33602|     5|So easy my husban...| 2002-12-20|zucchini with oni...|33602|     50|         23302|2002-07-08|['60-minutes-or-l...|[84.4, 5.0, 28.0,...|      5|['melt the butter...|                    |['unsalted butter...|            6|\n",
            "|     31635|    33602|     4|Absolutely delici...| 2005-06-03|zucchini with oni...|33602|     50|         23302|2002-07-08|['60-minutes-or-l...|[84.4, 5.0, 28.0,...|      5|['melt the butter...|                    |['unsalted butter...|            6|\n",
            "|     35526|    33602|     5|We really liked t...| 2005-11-09|zucchini with oni...|33602|     50|         23302|2002-07-08|['60-minutes-or-l...|[84.4, 5.0, 28.0,...|      5|['melt the butter...|                    |['unsalted butter...|            6|\n",
            "|     48107|    35912|     4|The quiche was ve...| 2002-12-24|cheesy bacon   sa...|35912|     75|         45698|2002-08-02|['bacon', 'weekni...|[4123.9, 503.0, 2...|     13|['preheat oven to...|neat breakfast (o...|['breakfast sausa...|            9|\n",
            "|    141980|    35912|     4|I made this over ...| 2004-06-06|cheesy bacon   sa...|35912|     75|         45698|2002-08-02|['bacon', 'weekni...|[4123.9, 503.0, 2...|     13|['preheat oven to...|neat breakfast (o...|['breakfast sausa...|            9|\n",
            "|     60989|    35912|     5|Perfect quiche. E...| 2006-11-07|cheesy bacon   sa...|35912|     75|         45698|2002-08-02|['bacon', 'weekni...|[4123.9, 503.0, 2...|     13|['preheat oven to...|neat breakfast (o...|['breakfast sausa...|            9|\n",
            "|    537937|    35912|     5|Thanks Ocean for ...| 2008-02-03|cheesy bacon   sa...|35912|     75|         45698|2002-08-02|['bacon', 'weekni...|[4123.9, 503.0, 2...|     13|['preheat oven to...|neat breakfast (o...|['breakfast sausa...|            9|\n",
            "|1802380878|    35912|     0|I pretty much fol...| 2014-01-19|cheesy bacon   sa...|35912|     75|         45698|2002-08-02|['bacon', 'weekni...|[4123.9, 503.0, 2...|     13|['preheat oven to...|neat breakfast (o...|['breakfast sausa...|            9|\n",
            "|     53378|    40335|     5|You are right  th...| 2002-10-05|emeril s tater to...|40335|     55|          3288|2002-09-16|['celebrity', 'ha...|[1258.0, 129.0, 2...|      8|['preheat the ove...|got this kid frie...|['butter', 'eggs'...|            9|\n",
            "|     57562|    40335|     3|I would rate this...| 2002-11-02|emeril s tater to...|40335|     55|          3288|2002-09-16|['celebrity', 'ha...|[1258.0, 129.0, 2...|      8|['preheat the ove...|got this kid frie...|['butter', 'eggs'...|            9|\n",
            "|     47230|    40335|     5|YUMMY!! These tat...| 2002-11-09|emeril s tater to...|40335|     55|          3288|2002-09-16|['celebrity', 'ha...|[1258.0, 129.0, 2...|      8|['preheat the ove...|got this kid frie...|['butter', 'eggs'...|            9|\n",
            "|     55536|    40335|     4|Great tasting dis...| 2003-08-17|emeril s tater to...|40335|     55|          3288|2002-09-16|['celebrity', 'ha...|[1258.0, 129.0, 2...|      8|['preheat the ove...|got this kid frie...|['butter', 'eggs'...|            9|\n",
            "|2001602879|    40335|     5|Using the feedbac...| 2017-06-27|emeril s tater to...|40335|     55|          3288|2002-09-16|['celebrity', 'ha...|[1258.0, 129.0, 2...|      8|['preheat the ove...|got this kid frie...|['butter', 'eggs'...|            9|\n",
            "|     14823|    40386|     5|This was very goo...| 2002-10-16|egg and bacon cas...|40386|     60|         50997|2002-09-16|['60-minutes-or-l...|[4272.4, 523.0, 1...|      9|['place butter in...|breakfast is our ...|['butter', 'crout...|            7|\n",
            "|     91383|    40386|     4|I cooked this the...| 2003-07-02|egg and bacon cas...|40386|     60|         50997|2002-09-16|['60-minutes-or-l...|[4272.4, 523.0, 1...|      9|['place butter in...|breakfast is our ...|['butter', 'crout...|            7|\n",
            "|     21443|    40386|     4|My children gave ...| 2005-03-21|egg and bacon cas...|40386|     60|         50997|2002-09-16|['60-minutes-or-l...|[4272.4, 523.0, 1...|      9|['place butter in...|breakfast is our ...|['butter', 'crout...|            7|\n",
            "|    153188|    40386|     4|This was super go...| 2007-10-19|egg and bacon cas...|40386|     60|         50997|2002-09-16|['60-minutes-or-l...|[4272.4, 523.0, 1...|      9|['place butter in...|breakfast is our ...|['butter', 'crout...|            7|\n",
            "|     53391|    50348|     5|This is a refresh...| 2003-02-05|pineapple yogurt ...|50348|     35|         61388|2003-01-08|['60-minutes-or-l...|[277.2, 2.0, 224....|      3|['mix yogurt and ...|this recipe is fr...|['low-fat plain y...|            3|\n",
            "|    142361|    50348|     4|This is very good...| 2007-02-26|pineapple yogurt ...|50348|     35|         61388|2003-01-08|['60-minutes-or-l...|[277.2, 2.0, 224....|      3|['mix yogurt and ...|this recipe is fr...|['low-fat plain y...|            3|\n",
            "+----------+---------+------+--------------------+-----------+--------------------+-----+-------+--------------+----------+--------------------+--------------------+-------+--------------------+--------------------+--------------------+-------------+\n",
            "only showing top 20 rows\n",
            "\n"
          ]
        }
      ],
      "source": [
        "interaction_level_df.show()"
      ]
    },
    {
      "cell_type": "code",
      "execution_count": null,
      "metadata": {
        "id": "-DQ_AlJtMPlL"
      },
      "outputs": [],
      "source": [
        "# type casting submitted and review_date features into date type and creating other time based\n",
        "interaction_level_df = (interaction_level_df.withColumn('submitted',F.col(\"submitted\").cast(\"date\"))\n",
        "                        .withColumn('review_date',F.col(\"review_date\").cast(\"date\")))"
      ]
    },
    {
      "cell_type": "code",
      "execution_count": null,
      "metadata": {
        "colab": {
          "base_uri": "https://localhost:8080/"
        },
        "id": "4XHotnFIMTVM",
        "outputId": "b8dc42c2-aec8-4f4c-d7e0-d905418fa6c1"
      },
      "outputs": [
        {
          "name": "stdout",
          "output_type": "stream",
          "text": [
            "+-------+---------+------+--------------------+-----------+--------------------+-----+-------+--------------+----------+--------------------+--------------------+-------+--------------------+--------------------+--------------------+-------------+\n",
            "|user_id|recipe_id|rating|              review|review_date|                name|   id|minutes|contributor_id| submitted|                tags|           nutrition|n_steps|               steps|         description|         ingredients|n_ingredients|\n",
            "+-------+---------+------+--------------------+-----------+--------------------+-----+-------+--------------+----------+--------------------+--------------------+-------+--------------------+--------------------+--------------------+-------------+\n",
            "| 152552|    29601|     5|Excellent. It was...| 2004-08-20|zippy cold spicy ...|29601|    270|         30367|2002-05-29|['time-to-make', ...|[277.2, 15.0, 13....|     12|['in a heavy 10-i...|shrimp drink in t...|['oil', 'medium s...|           11|\n",
            "|  16334|    33602|     5|So easy my husban...| 2002-12-20|zucchini with oni...|33602|     50|         23302|2002-07-08|['60-minutes-or-l...|[84.4, 5.0, 28.0,...|      5|['melt the butter...|                    |['unsalted butter...|            6|\n",
            "|  31635|    33602|     4|Absolutely delici...| 2005-06-03|zucchini with oni...|33602|     50|         23302|2002-07-08|['60-minutes-or-l...|[84.4, 5.0, 28.0,...|      5|['melt the butter...|                    |['unsalted butter...|            6|\n",
            "|  35526|    33602|     5|We really liked t...| 2005-11-09|zucchini with oni...|33602|     50|         23302|2002-07-08|['60-minutes-or-l...|[84.4, 5.0, 28.0,...|      5|['melt the butter...|                    |['unsalted butter...|            6|\n",
            "|  48107|    35912|     4|The quiche was ve...| 2002-12-24|cheesy bacon   sa...|35912|     75|         45698|2002-08-02|['bacon', 'weekni...|[4123.9, 503.0, 2...|     13|['preheat oven to...|neat breakfast (o...|['breakfast sausa...|            9|\n",
            "+-------+---------+------+--------------------+-----------+--------------------+-----+-------+--------------+----------+--------------------+--------------------+-------+--------------------+--------------------+--------------------+-------------+\n",
            "only showing top 5 rows\n",
            "\n"
          ]
        }
      ],
      "source": [
        "interaction_level_df.show(5)"
      ]
    },
    {
      "cell_type": "code",
      "execution_count": null,
      "metadata": {
        "colab": {
          "base_uri": "https://localhost:8080/"
        },
        "id": "TYG1CbSBkxvk",
        "outputId": "1b03d405-1668-4bd9-9115-ca048ae56647"
      },
      "outputs": [
        {
          "name": "stdout",
          "output_type": "stream",
          "text": [
            "root\n",
            " |-- user_id: integer (nullable = true)\n",
            " |-- recipe_id: integer (nullable = true)\n",
            " |-- rating: integer (nullable = true)\n",
            " |-- review: string (nullable = true)\n",
            " |-- review_date: string (nullable = true)\n",
            " |-- name: string (nullable = true)\n",
            " |-- id: integer (nullable = true)\n",
            " |-- minutes: integer (nullable = true)\n",
            " |-- contributor_id: integer (nullable = true)\n",
            " |-- submitted: string (nullable = true)\n",
            " |-- tags: string (nullable = true)\n",
            " |-- nutrition: string (nullable = true)\n",
            " |-- n_steps: integer (nullable = true)\n",
            " |-- steps: string (nullable = true)\n",
            " |-- description: string (nullable = true)\n",
            " |-- ingredients: string (nullable = true)\n",
            " |-- n_ingredients: integer (nullable = true)\n",
            " |-- year_of_review: integer (nullable = true)\n",
            "\n"
          ]
        }
      ],
      "source": [
        "interaction_level_df.printSchema() #printing the schema of the joined dataframe"
      ]
    },
    {
      "cell_type": "code",
      "execution_count": null,
      "metadata": {
        "id": "DD5N6KvDgNBP"
      },
      "outputs": [],
      "source": [
        "#Now , we will be using the filter command to seperate the datasets\n",
        "# All interactions which were rated BEFORE '2011-07-17' will be train data. \n",
        "train_interaction_level_df=(interaction_level_df.filter(interaction_level_df.review_date<'2011-07-17'))"
      ]
    },
    {
      "cell_type": "code",
      "execution_count": null,
      "metadata": {
        "colab": {
          "base_uri": "https://localhost:8080/"
        },
        "id": "RokAwvPwnG-a",
        "outputId": "629249ec-6e71-4b02-ab32-ac0df61efd48"
      },
      "outputs": [
        {
          "name": "stdout",
          "output_type": "stream",
          "text": [
            "+-------+---------+------+--------------------+-----------+--------------------+-----+-------+--------------+----------+--------------------+--------------------+-------+--------------------+--------------------+--------------------+-------------+\n",
            "|user_id|recipe_id|rating|              review|review_date|                name|   id|minutes|contributor_id| submitted|                tags|           nutrition|n_steps|               steps|         description|         ingredients|n_ingredients|\n",
            "+-------+---------+------+--------------------+-----------+--------------------+-----+-------+--------------+----------+--------------------+--------------------+-------+--------------------+--------------------+--------------------+-------------+\n",
            "| 152552|    29601|     5|Excellent. It was...| 2004-08-20|zippy cold spicy ...|29601|    270|         30367|2002-05-29|['time-to-make', ...|[277.2, 15.0, 13....|     12|['in a heavy 10-i...|shrimp drink in t...|['oil', 'medium s...|           11|\n",
            "|  16334|    33602|     5|So easy my husban...| 2002-12-20|zucchini with oni...|33602|     50|         23302|2002-07-08|['60-minutes-or-l...|[84.4, 5.0, 28.0,...|      5|['melt the butter...|                    |['unsalted butter...|            6|\n",
            "|  31635|    33602|     4|Absolutely delici...| 2005-06-03|zucchini with oni...|33602|     50|         23302|2002-07-08|['60-minutes-or-l...|[84.4, 5.0, 28.0,...|      5|['melt the butter...|                    |['unsalted butter...|            6|\n",
            "|  35526|    33602|     5|We really liked t...| 2005-11-09|zucchini with oni...|33602|     50|         23302|2002-07-08|['60-minutes-or-l...|[84.4, 5.0, 28.0,...|      5|['melt the butter...|                    |['unsalted butter...|            6|\n",
            "|  48107|    35912|     4|The quiche was ve...| 2002-12-24|cheesy bacon   sa...|35912|     75|         45698|2002-08-02|['bacon', 'weekni...|[4123.9, 503.0, 2...|     13|['preheat oven to...|neat breakfast (o...|['breakfast sausa...|            9|\n",
            "| 141980|    35912|     4|I made this over ...| 2004-06-06|cheesy bacon   sa...|35912|     75|         45698|2002-08-02|['bacon', 'weekni...|[4123.9, 503.0, 2...|     13|['preheat oven to...|neat breakfast (o...|['breakfast sausa...|            9|\n",
            "|  60989|    35912|     5|Perfect quiche. E...| 2006-11-07|cheesy bacon   sa...|35912|     75|         45698|2002-08-02|['bacon', 'weekni...|[4123.9, 503.0, 2...|     13|['preheat oven to...|neat breakfast (o...|['breakfast sausa...|            9|\n",
            "| 537937|    35912|     5|Thanks Ocean for ...| 2008-02-03|cheesy bacon   sa...|35912|     75|         45698|2002-08-02|['bacon', 'weekni...|[4123.9, 503.0, 2...|     13|['preheat oven to...|neat breakfast (o...|['breakfast sausa...|            9|\n",
            "|  53378|    40335|     5|You are right  th...| 2002-10-05|emeril s tater to...|40335|     55|          3288|2002-09-16|['celebrity', 'ha...|[1258.0, 129.0, 2...|      8|['preheat the ove...|got this kid frie...|['butter', 'eggs'...|            9|\n",
            "|  57562|    40335|     3|I would rate this...| 2002-11-02|emeril s tater to...|40335|     55|          3288|2002-09-16|['celebrity', 'ha...|[1258.0, 129.0, 2...|      8|['preheat the ove...|got this kid frie...|['butter', 'eggs'...|            9|\n",
            "|  47230|    40335|     5|YUMMY!! These tat...| 2002-11-09|emeril s tater to...|40335|     55|          3288|2002-09-16|['celebrity', 'ha...|[1258.0, 129.0, 2...|      8|['preheat the ove...|got this kid frie...|['butter', 'eggs'...|            9|\n",
            "|  55536|    40335|     4|Great tasting dis...| 2003-08-17|emeril s tater to...|40335|     55|          3288|2002-09-16|['celebrity', 'ha...|[1258.0, 129.0, 2...|      8|['preheat the ove...|got this kid frie...|['butter', 'eggs'...|            9|\n",
            "|  14823|    40386|     5|This was very goo...| 2002-10-16|egg and bacon cas...|40386|     60|         50997|2002-09-16|['60-minutes-or-l...|[4272.4, 523.0, 1...|      9|['place butter in...|breakfast is our ...|['butter', 'crout...|            7|\n",
            "|  91383|    40386|     4|I cooked this the...| 2003-07-02|egg and bacon cas...|40386|     60|         50997|2002-09-16|['60-minutes-or-l...|[4272.4, 523.0, 1...|      9|['place butter in...|breakfast is our ...|['butter', 'crout...|            7|\n",
            "|  21443|    40386|     4|My children gave ...| 2005-03-21|egg and bacon cas...|40386|     60|         50997|2002-09-16|['60-minutes-or-l...|[4272.4, 523.0, 1...|      9|['place butter in...|breakfast is our ...|['butter', 'crout...|            7|\n",
            "| 153188|    40386|     4|This was super go...| 2007-10-19|egg and bacon cas...|40386|     60|         50997|2002-09-16|['60-minutes-or-l...|[4272.4, 523.0, 1...|      9|['place butter in...|breakfast is our ...|['butter', 'crout...|            7|\n",
            "|  53391|    50348|     5|This is a refresh...| 2003-02-05|pineapple yogurt ...|50348|     35|         61388|2003-01-08|['60-minutes-or-l...|[277.2, 2.0, 224....|      3|['mix yogurt and ...|this recipe is fr...|['low-fat plain y...|            3|\n",
            "| 142361|    50348|     4|This is very good...| 2007-02-26|pineapple yogurt ...|50348|     35|         61388|2003-01-08|['60-minutes-or-l...|[277.2, 2.0, 224....|      3|['mix yogurt and ...|this recipe is fr...|['low-fat plain y...|            3|\n",
            "|  58038|    51415|     4|Refreshing change...| 2006-08-29|        chia s salsa|51415|     30|         52282|2003-01-15|['30-minutes-or-l...|[60.1, 0.0, 32.0,...|      2|['mix all ingredi...|from cooking ligh...|['plum tomatoes',...|           12|\n",
            "|  54716|    51415|     5|This is an unusua...| 2003-01-21|        chia s salsa|51415|     30|         52282|2003-01-15|['30-minutes-or-l...|[60.1, 0.0, 32.0,...|      2|['mix all ingredi...|from cooking ligh...|['plum tomatoes',...|           12|\n",
            "+-------+---------+------+--------------------+-----------+--------------------+-----+-------+--------------+----------+--------------------+--------------------+-------+--------------------+--------------------+--------------------+-------------+\n",
            "only showing top 20 rows\n",
            "\n"
          ]
        }
      ],
      "source": [
        "train_interaction_level_df.show() #displaying the train dataset"
      ]
    },
    {
      "cell_type": "code",
      "execution_count": null,
      "metadata": {
        "colab": {
          "base_uri": "https://localhost:8080/"
        },
        "id": "SansOEU6nQrZ",
        "outputId": "ac9c5485-d47c-4b26-c31d-7b67f8aaa6da"
      },
      "outputs": [
        {
          "name": "stdout",
          "output_type": "stream",
          "text": [
            "root\n",
            " |-- user_id: integer (nullable = true)\n",
            " |-- recipe_id: integer (nullable = true)\n",
            " |-- rating: integer (nullable = true)\n",
            " |-- review: string (nullable = true)\n",
            " |-- review_date: date (nullable = true)\n",
            " |-- name: string (nullable = true)\n",
            " |-- id: integer (nullable = true)\n",
            " |-- minutes: integer (nullable = true)\n",
            " |-- contributor_id: integer (nullable = true)\n",
            " |-- submitted: date (nullable = true)\n",
            " |-- tags: string (nullable = true)\n",
            " |-- nutrition: string (nullable = true)\n",
            " |-- n_steps: integer (nullable = true)\n",
            " |-- steps: string (nullable = true)\n",
            " |-- description: string (nullable = true)\n",
            " |-- ingredients: string (nullable = true)\n",
            " |-- n_ingredients: integer (nullable = true)\n",
            "\n"
          ]
        }
      ],
      "source": [
        "train_interaction_level_df.printSchema() #printing the schema of the train dataset"
      ]
    },
    {
      "cell_type": "code",
      "execution_count": null,
      "metadata": {
        "id": "FfzNiexHnmkj"
      },
      "outputs": [],
      "source": [
        "#Creating the test dataset\n",
        "test_interaction_level_df=interaction_level_df.filter(interaction_level_df.review_date>='2011-07-17')"
      ]
    },
    {
      "cell_type": "code",
      "execution_count": null,
      "metadata": {
        "colab": {
          "base_uri": "https://localhost:8080/"
        },
        "id": "eNiUWTwWoBBJ",
        "outputId": "74806ff5-d64e-4531-9f83-d9b97483f612"
      },
      "outputs": [
        {
          "name": "stdout",
          "output_type": "stream",
          "text": [
            "+----------+---------+------+--------------------+-----------+--------------------+------+-------+--------------+----------+--------------------+--------------------+-------+--------------------+--------------------+--------------------+-------------+\n",
            "|   user_id|recipe_id|rating|              review|review_date|                name|    id|minutes|contributor_id| submitted|                tags|           nutrition|n_steps|               steps|         description|         ingredients|n_ingredients|\n",
            "+----------+---------+------+--------------------+-----------+--------------------+------+-------+--------------+----------+--------------------+--------------------+-------+--------------------+--------------------+--------------------+-------------+\n",
            "|1802380878|    35912|     0|I pretty much fol...| 2014-01-19|cheesy bacon   sa...| 35912|     75|         45698|2002-08-02|['bacon', 'weekni...|[4123.9, 503.0, 2...|     13|['preheat oven to...|neat breakfast (o...|['breakfast sausa...|            9|\n",
            "|2001602879|    40335|     5|Using the feedbac...| 2017-06-27|emeril s tater to...| 40335|     55|          3288|2002-09-16|['celebrity', 'ha...|[1258.0, 129.0, 2...|      8|['preheat the ove...|got this kid frie...|['butter', 'eggs'...|            9|\n",
            "|   2758877|    50348|     0|What is the point...| 2018-06-14|pineapple yogurt ...| 50348|     35|         61388|2003-01-08|['60-minutes-or-l...|[277.2, 2.0, 224....|      3|['mix yogurt and ...|this recipe is fr...|['low-fat plain y...|            3|\n",
            "|    199020|    55265|     5|I&#039;m not a hu...| 2013-07-15|spicy catfish ten...| 55265|     35|         49304|2003-03-01|['60-minutes-or-l...|[8852.5, 1434.0, ...|      9|['make tartar sau...|this recipe is fo...|['egg', 'hot sauc...|           14|\n",
            "|    369284|    76143|     5|Very  very good!!...| 2011-10-18|easy crock pot po...| 76143|    425|         89831|2003-11-11|['weeknight', 'ti...|[660.7, 71.0, 62....|      9|['sprinkle the sl...|this recipe comes...|['boneless pork s...|            6|\n",
            "|   2210022|    89385|     5|I made this today...| 2012-04-25|chocolate snack cake| 89385|     35|         84583|2004-04-18|['60-minutes-or-l...|[178.6, 5.0, 89.0...|      6|['pre heat ove to...|very quick & easy...|['flour', 'sugar'...|           10|\n",
            "|    224235|    89385|     5|Simple &amp; deli...| 2013-05-21|chocolate snack cake| 89385|     35|         84583|2004-04-18|['60-minutes-or-l...|[178.6, 5.0, 89.0...|      6|['pre heat ove to...|very quick & easy...|['flour', 'sugar'...|           10|\n",
            "|   1487809|    91299|     5|This is one of my...| 2013-08-28|chili with sausag...| 91299|     45|         52595|2004-05-18|['60-minutes-or-l...|[331.7, 26.0, 20....|     17|['heat 2 t', 'oil...|this is a real ta...|['olive oil', 'le...|           20|\n",
            "|   2563515|    95476|     5|I did vary from t...| 2013-01-06|chocolate zucchin...| 95476|     30|        124190|2004-07-12|['30-minutes-or-l...|[216.2, 15.0, 68....|     11|['preheat oven to...|i found this reci...|['eggs', 'white s...|           14|\n",
            "|    538098|    95476|     5|So good and anoth...| 2014-07-25|chocolate zucchin...| 95476|     30|        124190|2004-07-12|['30-minutes-or-l...|[216.2, 15.0, 68....|     11|['preheat oven to...|i found this reci...|['eggs', 'white s...|           14|\n",
            "|   2512893|    95476|     5|These muffins are...| 2015-07-04|chocolate zucchin...| 95476|     30|        124190|2004-07-12|['30-minutes-or-l...|[216.2, 15.0, 68....|     11|['preheat oven to...|i found this reci...|['eggs', 'white s...|           14|\n",
            "|2001099359|    95476|     4|Wonderful &amp; s...| 2016-07-23|chocolate zucchin...| 95476|     30|        124190|2004-07-12|['30-minutes-or-l...|[216.2, 15.0, 68....|     11|['preheat oven to...|i found this reci...|['eggs', 'white s...|           14|\n",
            "|     80219|    95476|     5|Great recipe. Wil...| 2017-08-05|chocolate zucchin...| 95476|     30|        124190|2004-07-12|['30-minutes-or-l...|[216.2, 15.0, 68....|     11|['preheat oven to...|i found this reci...|['eggs', 'white s...|           14|\n",
            "|2001948726|    95476|     5|I followed the re...| 2018-01-23|chocolate zucchin...| 95476|     30|        124190|2004-07-12|['30-minutes-or-l...|[216.2, 15.0, 68....|     11|['preheat oven to...|i found this reci...|['eggs', 'white s...|           14|\n",
            "|    385423|    95476|     4|I used 1/2 oil an...| 2018-08-18|chocolate zucchin...| 95476|     30|        124190|2004-07-12|['30-minutes-or-l...|[216.2, 15.0, 68....|     11|['preheat oven to...|i found this reci...|['eggs', 'white s...|           14|\n",
            "|   2924292|   131931|     0|I originally made...| 2013-07-30|cilantro lime tar...|131931|     15|        119466|2005-08-02|['15-minutes-or-l...|[633.6, 80.0, 49....|      1|['stir all ingred...|fantastic tartar ...|['mayonnaise', 'd...|            7|\n",
            "|2000036769|   131931|     4|I really dug this...| 2015-03-02|cilantro lime tar...|131931|     15|        119466|2005-08-02|['15-minutes-or-l...|[633.6, 80.0, 49....|      1|['stir all ingred...|fantastic tartar ...|['mayonnaise', 'd...|            7|\n",
            "|    227652|   134924|     5|This was just won...| 2016-03-19|   brown rice  baked|134924|     70|         13796|2005-08-25|['time-to-make', ...|[162.0, 8.0, 2.0,...|     13|['preheat oven to...|brown rice is so ...|['brown rice', 'c...|           14|\n",
            "|2001501916|   134924|     0|My new brown rice...| 2017-05-25|   brown rice  baked|134924|     70|         13796|2005-08-25|['time-to-make', ...|[162.0, 8.0, 2.0,...|     13|['preheat oven to...|brown rice is so ...|['brown rice', 'c...|           14|\n",
            "|    428885|   141449|     4|Good recipe! Fill...| 2012-03-18|quick and easy br...|141449|     50|        248292|2005-10-17|['60-minutes-or-l...|[244.1, 11.0, 12....|     12|['melt the butter...|i got this recipe...|['unsalted butter...|            9|\n",
            "+----------+---------+------+--------------------+-----------+--------------------+------+-------+--------------+----------+--------------------+--------------------+-------+--------------------+--------------------+--------------------+-------------+\n",
            "only showing top 20 rows\n",
            "\n"
          ]
        }
      ],
      "source": [
        "#showing the test dataset\n",
        "test_interaction_level_df.show()"
      ]
    },
    {
      "cell_type": "code",
      "execution_count": null,
      "metadata": {
        "colab": {
          "base_uri": "https://localhost:8080/"
        },
        "id": "ltBnoaCUoFss",
        "outputId": "0d0d7bdd-eee1-4103-ca47-2c2aee049b63"
      },
      "outputs": [
        {
          "name": "stdout",
          "output_type": "stream",
          "text": [
            "root\n",
            " |-- user_id: integer (nullable = true)\n",
            " |-- recipe_id: integer (nullable = true)\n",
            " |-- rating: integer (nullable = true)\n",
            " |-- review: string (nullable = true)\n",
            " |-- review_date: string (nullable = true)\n",
            " |-- name: string (nullable = true)\n",
            " |-- id: integer (nullable = true)\n",
            " |-- minutes: integer (nullable = true)\n",
            " |-- contributor_id: integer (nullable = true)\n",
            " |-- submitted: string (nullable = true)\n",
            " |-- tags: string (nullable = true)\n",
            " |-- nutrition: string (nullable = true)\n",
            " |-- n_steps: integer (nullable = true)\n",
            " |-- steps: string (nullable = true)\n",
            " |-- description: string (nullable = true)\n",
            " |-- ingredients: string (nullable = true)\n",
            " |-- n_ingredients: integer (nullable = true)\n",
            " |-- year_of_review: integer (nullable = true)\n",
            "\n"
          ]
        }
      ],
      "source": [
        "#printing the schema for the test dataset\n",
        "test_interaction_level_df.printSchema()"
      ]
    },
    {
      "cell_type": "code",
      "execution_count": null,
      "metadata": {
        "id": "r8WqjvaUoLnT"
      },
      "outputs": [],
      "source": [
        "#creating the data files for modelling\n",
        "(train_interaction_level_df.coalesce(1)\n",
        "                           .write.mode('overwrite')\n",
        "                           .parquet('train_interaction_level_df.parquet'))  # change the file name and file path"
      ]
    },
    {
      "cell_type": "code",
      "execution_count": null,
      "metadata": {
        "id": "zOwLnYxroUdh"
      },
      "outputs": [],
      "source": [
        "(test_interaction_level_df.coalesce(1)\n",
        "                                       .write.mode('overwrite')\n",
        "                                       .parquet('test_interaction_level_df.parquet'))  # change the file name and file pat"
      ]
    },
    {
      "cell_type": "markdown",
      "metadata": {
        "id": "GEUxmnHgo_9L"
      },
      "source": [
        "**Task 02 : Collaborative filtering model**"
      ]
    },
    {
      "cell_type": "markdown",
      "metadata": {
        "id": "6UghL2R3pNNz"
      },
      "source": [
        " 1. Build an ALS-based recommender using the native Spark library.  \n",
        "\n",
        "2. Create 10 recommendations for each user in the test data. "
      ]
    },
    {
      "cell_type": "markdown",
      "metadata": {
        "id": "LBFfnnevpXon"
      },
      "source": [
        "**1. Build an ALS based recommender using the native Spark Library**"
      ]
    },
    {
      "cell_type": "code",
      "execution_count": null,
      "metadata": {
        "colab": {
          "base_uri": "https://localhost:8080/"
        },
        "id": "GeOCCb8Doy0T",
        "outputId": "ca8bc754-e6e7-46e0-aa6b-40df2eaa7214"
      },
      "outputs": [
        {
          "name": "stdout",
          "output_type": "stream",
          "text": [
            "Looking in indexes: https://pypi.org/simple, https://us-python.pkg.dev/colab-wheels/public/simple/\n",
            "Collecting lenskit\n",
            "  Downloading lenskit-0.14.2-py3-none-any.whl (74 kB)\n",
            "\u001b[2K     \u001b[90m━━━━━━━━━━━━━━━━━━━━━━━━━━━━━━━━━━━━━━━━\u001b[0m \u001b[32m74.0/74.0 KB\u001b[0m \u001b[31m3.6 MB/s\u001b[0m eta \u001b[36m0:00:00\u001b[0m\n",
            "\u001b[?25hRequirement already satisfied: numba<0.57,>=0.51 in /usr/local/lib/python3.9/dist-packages (from lenskit) (0.56.4)\n",
            "Requirement already satisfied: cffi>=1.12.2 in /usr/local/lib/python3.9/dist-packages (from lenskit) (1.15.1)\n",
            "Collecting binpickle>=0.3.2\n",
            "  Downloading binpickle-0.3.4-py3-none-any.whl (13 kB)\n",
            "Collecting csr>=0.3.1\n",
            "  Downloading csr-0.4.3-py3-none-any.whl (23 kB)\n",
            "Requirement already satisfied: scipy>=1.2 in /usr/local/lib/python3.9/dist-packages (from lenskit) (1.10.1)\n",
            "Collecting seedbank>=0.1.0\n",
            "  Downloading seedbank-0.1.2-py3-none-any.whl (7.9 kB)\n",
            "Requirement already satisfied: numpy>=1.17 in /usr/local/lib/python3.9/dist-packages (from lenskit) (1.22.4)\n",
            "Requirement already satisfied: psutil>=5 in /usr/local/lib/python3.9/dist-packages (from lenskit) (5.9.4)\n",
            "Requirement already satisfied: pandas==1.*,>=1.0 in /usr/local/lib/python3.9/dist-packages (from lenskit) (1.4.4)\n",
            "Requirement already satisfied: pytz>=2020.1 in /usr/local/lib/python3.9/dist-packages (from pandas==1.*,>=1.0->lenskit) (2022.7.1)\n",
            "Requirement already satisfied: python-dateutil>=2.8.1 in /usr/local/lib/python3.9/dist-packages (from pandas==1.*,>=1.0->lenskit) (2.8.2)\n",
            "Requirement already satisfied: msgpack>=1.0 in /usr/local/lib/python3.9/dist-packages (from binpickle>=0.3.2->lenskit) (1.0.5)\n",
            "Requirement already satisfied: pycparser in /usr/local/lib/python3.9/dist-packages (from cffi>=1.12.2->lenskit) (2.21)\n",
            "Requirement already satisfied: setuptools in /usr/local/lib/python3.9/dist-packages (from numba<0.57,>=0.51->lenskit) (67.6.0)\n",
            "Requirement already satisfied: llvmlite<0.40,>=0.39.0dev0 in /usr/local/lib/python3.9/dist-packages (from numba<0.57,>=0.51->lenskit) (0.39.1)\n",
            "Collecting anyconfig\n",
            "  Downloading anyconfig-0.13.0-py2.py3-none-any.whl (87 kB)\n",
            "\u001b[2K     \u001b[90m━━━━━━━━━━━━━━━━━━━━━━━━━━━━━━━━━━━━━━━━\u001b[0m \u001b[32m87.8/87.8 KB\u001b[0m \u001b[31m11.6 MB/s\u001b[0m eta \u001b[36m0:00:00\u001b[0m\n",
            "\u001b[?25hRequirement already satisfied: six>=1.5 in /usr/local/lib/python3.9/dist-packages (from python-dateutil>=2.8.1->pandas==1.*,>=1.0->lenskit) (1.16.0)\n",
            "Installing collected packages: binpickle, anyconfig, seedbank, csr, lenskit\n",
            "Successfully installed anyconfig-0.13.0 binpickle-0.3.4 csr-0.4.3 lenskit-0.14.2 seedbank-0.1.2\n"
          ]
        }
      ],
      "source": [
        "try:\n",
        "  import lenskit \n",
        "except:\n",
        "  %pip install lenskit"
      ]
    },
    {
      "cell_type": "code",
      "execution_count": null,
      "metadata": {
        "id": "yx3Y1O5ZpgHL"
      },
      "outputs": [],
      "source": [
        "from pyspark.sql import SparkSession\n",
        "from pyspark.context import SparkContext"
      ]
    },
    {
      "cell_type": "code",
      "execution_count": null,
      "metadata": {
        "id": "bijt1SItplAv"
      },
      "outputs": [],
      "source": [
        "spark = SparkSession.builder.master(\"local\").config('spark.ui.port', '4050').getOrCreate()"
      ]
    },
    {
      "cell_type": "code",
      "execution_count": null,
      "metadata": {
        "colab": {
          "base_uri": "https://localhost:8080/",
          "height": 219
        },
        "id": "TiL_iuD_pnd2",
        "outputId": "bead2e86-6802-4213-9c5f-aa6356469e3b"
      },
      "outputs": [
        {
          "data": {
            "text/html": [
              "\n",
              "            <div>\n",
              "                <p><b>SparkSession - in-memory</b></p>\n",
              "                \n",
              "        <div>\n",
              "            <p><b>SparkContext</b></p>\n",
              "\n",
              "            <p><a href=\"http://af492d875fab:4050\">Spark UI</a></p>\n",
              "\n",
              "            <dl>\n",
              "              <dt>Version</dt>\n",
              "                <dd><code>v3.1.2</code></dd>\n",
              "              <dt>Master</dt>\n",
              "                <dd><code>local</code></dd>\n",
              "              <dt>AppName</dt>\n",
              "                <dd><code>pyspark-shell</code></dd>\n",
              "            </dl>\n",
              "        </div>\n",
              "        \n",
              "            </div>\n",
              "        "
            ],
            "text/plain": [
              "<pyspark.sql.session.SparkSession at 0x7f2198f860d0>"
            ]
          },
          "execution_count": 47,
          "metadata": {},
          "output_type": "execute_result"
        }
      ],
      "source": [
        "spark"
      ]
    },
    {
      "cell_type": "code",
      "execution_count": null,
      "metadata": {
        "id": "tzOupi-gpo28"
      },
      "outputs": [],
      "source": [
        "#Importing the libraries\n",
        "from pyspark.sql import functions as F\n",
        "from pyspark.sql.types import IntegerType,BooleanType,DateType,FloatType,StringType, ArrayType"
      ]
    },
    {
      "cell_type": "code",
      "execution_count": null,
      "metadata": {
        "id": "jUCxsu62pw0-"
      },
      "outputs": [],
      "source": [
        "from lenskit import batch, topn, util\n",
        "from lenskit.algorithms import Recommender, als, item_knn as knn #importing the required functions for ALS and testing"
      ]
    },
    {
      "cell_type": "code",
      "execution_count": null,
      "metadata": {
        "id": "dp4vryArp5B3"
      },
      "outputs": [],
      "source": [
        "#Reading the Data\n",
        "train_ratings_df = spark.read.parquet('train_interaction_level_df.parquet', \n",
        "                                      header=True, \n",
        "                                      inferSchema=True)"
      ]
    },
    {
      "cell_type": "code",
      "execution_count": null,
      "metadata": {
        "id": "41Qr1M5IqSkw"
      },
      "outputs": [],
      "source": [
        "test_ratings_all_df  = spark.read.parquet('test_interaction_level_df.parquet', \n",
        "                                          header=True, \n",
        "                                          inferSchema=True)"
      ]
    },
    {
      "cell_type": "code",
      "execution_count": null,
      "metadata": {
        "id": "a7QmQqX5qcb-"
      },
      "outputs": [],
      "source": [
        "raw_recipes_df = spark.read.csv(\"RAW_recipes_cleaned.csv\", \n",
        "                                header=True, \n",
        "                                inferSchema=True)"
      ]
    },
    {
      "cell_type": "code",
      "execution_count": null,
      "metadata": {
        "colab": {
          "base_uri": "https://localhost:8080/"
        },
        "id": "77bJZcyJq4Na",
        "outputId": "96ce56c2-f542-4805-9715-0d9e78efaf75"
      },
      "outputs": [
        {
          "name": "stdout",
          "output_type": "stream",
          "text": [
            "+-----------------------+\n",
            "|count(DISTINCT user_id)|\n",
            "+-----------------------+\n",
            "|                  23362|\n",
            "+-----------------------+\n",
            "\n",
            "+-------------------------+\n",
            "|count(DISTINCT recipe_id)|\n",
            "+-------------------------+\n",
            "|                    18721|\n",
            "+-------------------------+\n",
            "\n",
            "The training dataframe is  99.9829264% empty.\n"
          ]
        }
      ],
      "source": [
        "#Counting the number of ratings in the Dataset\n",
        "numerator = train_ratings_df.select(\"rating\").count()\n",
        "# Count the number of distinct userIds and distinct recipe_Ids\n",
        "train_ratings_df.createOrReplaceTempView(\"RATINGS\")\n",
        "spark.sql(\"SELECT COUNT(DISTINCT user_id) FROM RATINGS\").show()\n",
        "spark.sql(\"SELECT COUNT(DISTINCT recipe_id) FROM RATINGS\").show()\n",
        "num_users = 23362 # find the number of unique users in the training data. The output must be an integer\n",
        "num_recipes = 18721 # find the number of unique recipes in the training data. The output must be an integer\n",
        "# Set the denominator equal to the number of users multiplied by the number of movies\n",
        "denominator = num_users * num_recipes\n",
        "# Divide the numerator by the denominator\n",
        "sparsity = (1.0 - (numerator *1.0)/denominator)*100\n",
        "print(\"The training dataframe is \", \"%.7f\" % sparsity + \"% empty.\")"
      ]
    },
    {
      "cell_type": "code",
      "execution_count": null,
      "metadata": {
        "id": "-Szfg6IvHnvQ"
      },
      "outputs": [],
      "source": [
        "def manual_recommendation_check (user_id):\n",
        "  '''\n",
        "  Given a user ID form the test dataset, this function will return the names of the recipes recommended to the user. \n",
        "\n",
        "  Initialize this function after the all_recs data frame is calculated. \n",
        "\n",
        "  Input user_id of a user from the test set as an integer.  \n",
        "  Prints the names of recipes recommended to this user. \n",
        "  Returns nothing. \n",
        "  '''\n",
        "  recs_user = all_recs_als[all_recs_als.user == user_id]\n",
        "  recs_user_list = list(recs_user.item.values)\n",
        "  recs_user_list = [x.item() for x in recs_user_list]\n",
        "  display((raw_recipes_df.filter(F.col('id').isin(recs_user_list))\n",
        "               .select(\"name\")\n",
        "               .collect()\n",
        "               ))"
      ]
    },
    {
      "cell_type": "code",
      "execution_count": null,
      "metadata": {
        "id": "UwTePVwt9eLO"
      },
      "outputs": [],
      "source": [
        "#creating the ALS model\n",
        "# Create ALS model\n",
        "from pyspark.ml.recommendation import ALS\n",
        "from pyspark.ml.evaluation import RegressionEvaluator"
      ]
    },
    {
      "cell_type": "code",
      "execution_count": null,
      "metadata": {
        "id": "RxwfJkzR-BSq"
      },
      "outputs": [],
      "source": [
        "als = ALS(maxIter=5, rank=4, regParam=0.01, userCol='user_id', itemCol='recipe_id', ratingCol='rating', coldStartStrategy='drop')"
      ]
    },
    {
      "cell_type": "code",
      "execution_count": null,
      "metadata": {
        "id": "ze1wAQpQB2h_"
      },
      "outputs": [],
      "source": [
        "assert type(als) == pyspark.ml.recommendation.ALS"
      ]
    },
    {
      "cell_type": "markdown",
      "metadata": {
        "id": "orYwHhPbB7IL"
      },
      "source": [
        "Training the Model"
      ]
    },
    {
      "cell_type": "code",
      "execution_count": null,
      "metadata": {
        "id": "_zUFJfq6B4zj"
      },
      "outputs": [],
      "source": [
        "model=als.fit(train_ratings_df)"
      ]
    },
    {
      "cell_type": "markdown",
      "metadata": {
        "id": "iTTTrLyNCIlj"
      },
      "source": [
        "*Predicting the Model*"
      ]
    },
    {
      "cell_type": "code",
      "execution_count": null,
      "metadata": {
        "id": "1_MOH3n0CDdF"
      },
      "outputs": [],
      "source": [
        "#using the model to create the predictions for the test data\n",
        "test_predictions_unseen=model.transform(test_ratings_all_df)"
      ]
    },
    {
      "cell_type": "code",
      "execution_count": null,
      "metadata": {
        "id": "DP-iPsLLH-pW"
      },
      "outputs": [],
      "source": [
        "assert test_predictions_unseen.select(F.col(\"prediction\"))"
      ]
    },
    {
      "cell_type": "code",
      "execution_count": null,
      "metadata": {
        "colab": {
          "base_uri": "https://localhost:8080/"
        },
        "id": "eO_gfRUgIAiv",
        "outputId": "49810352-f6c2-42bc-e1d2-d724f3da35fd"
      },
      "outputs": [
        {
          "name": "stdout",
          "output_type": "stream",
          "text": [
            "+-------+---------+------+----------+\n",
            "|user_id|recipe_id|rating|prediction|\n",
            "+-------+---------+------+----------+\n",
            "| 199020|    55265|     5| 2.6867282|\n",
            "| 369284|    76143|     5| 1.1619632|\n",
            "| 224235|    89385|     5| -5.064153|\n",
            "| 385423|    95476|     4|-26.846462|\n",
            "| 538098|    95476|     5| -5.714027|\n",
            "+-------+---------+------+----------+\n",
            "only showing top 5 rows\n",
            "\n"
          ]
        }
      ],
      "source": [
        "test_predictions_unseen.select(F.col(\"user_id\"),\n",
        "                               F.col(\"recipe_id\"),\n",
        "                               F.col(\"rating\"),\n",
        "                               F.col(\"prediction\")\n",
        "                              ).show(5)"
      ]
    },
    {
      "cell_type": "code",
      "execution_count": null,
      "metadata": {
        "colab": {
          "base_uri": "https://localhost:8080/"
        },
        "id": "9UHIoC71IDOQ",
        "outputId": "097fb297-5c63-427b-add9-4256e27f3035"
      },
      "outputs": [
        {
          "name": "stdout",
          "output_type": "stream",
          "text": [
            "+-------+--------------------+\n",
            "|user_id|     recommendations|\n",
            "+-------+--------------------+\n",
            "|  28170|[{393869, 69.7053...|\n",
            "|  56680|[{258596, 34.0402...|\n",
            "| 108460|[{107090, 44.0412...|\n",
            "| 139830|[{143193, 11.2735...|\n",
            "| 198430|[{294011, 48.7934...|\n",
            "| 241660|[{282967, 12.5233...|\n",
            "| 280340|[{226501, 12.9577...|\n",
            "| 291650|[{106241, 191.472...|\n",
            "| 343180|[{123766, 70.3455...|\n",
            "| 409910|[{284599, 44.7136...|\n",
            "+-------+--------------------+\n",
            "only showing top 10 rows\n",
            "\n"
          ]
        }
      ],
      "source": [
        "# Each user in the test set must have 10 predictions. \n",
        "# Use ALS model to get these predictions. \n",
        "# You can use the recommendForAllUsers() method. \n",
        "\n",
        "recommendations = model.recommendForAllUsers(20).show(10) "
      ]
    },
    {
      "cell_type": "code",
      "execution_count": null,
      "metadata": {
        "id": "Oj4ThrKtIPua"
      },
      "outputs": [],
      "source": [
        "recommendations = model.recommendForAllUsers(10)"
      ]
    },
    {
      "cell_type": "code",
      "execution_count": null,
      "metadata": {
        "id": "T7NV1ziSJN4j"
      },
      "outputs": [],
      "source": [
        "assert len(dict(recommendations.select(F.col(\"recommendations\")).collect()[0][0])) == 10"
      ]
    },
    {
      "cell_type": "code",
      "execution_count": null,
      "metadata": {
        "id": "rWjS73sPJU_L"
      },
      "outputs": [],
      "source": [
        "# Transfroming the results by exploding the recommendations column\n",
        "\n",
        "recommendations = (recommendations.select(F.col(\"user_id\"),\n",
        "                                          F.posexplode(F.col(\"recommendations\")).alias(\"pos\", \"item\")) \n",
        "                                  .select(F.col(\"user_id\"),\n",
        "                                          F.col(\"pos\"), \n",
        "                                          F.col(\"item.recipe_id\").alias(\"recomended_recipe_id\"), \n",
        "                                          F.col(\"item.rating\").alias(\"predicted_rating\")))"
      ]
    },
    {
      "cell_type": "markdown",
      "metadata": {
        "id": "7C9w8FFyJqqD"
      },
      "source": [
        "**Evaluation**"
      ]
    },
    {
      "cell_type": "markdown",
      "metadata": {
        "id": "ok5CTsfXJuml"
      },
      "source": [
        "### Task 04 - Model Evaluation\n",
        "\n",
        "#### 1. RMSE\n",
        "\n",
        "Add the argument details to the evaluator function below to calculate the RMSE score of the ALS model. "
      ]
    },
    {
      "cell_type": "code",
      "execution_count": null,
      "metadata": {
        "id": "GL1wAVg1Jo0x"
      },
      "outputs": [],
      "source": [
        "# Define evaluator as RMSE and print RMSE value\n",
        "evaluator_seen = RegressionEvaluator(metricName=\"rmse\", \n",
        "                                     labelCol= \"rating\",  # add the name of the column that has the ratings \n",
        "                                     predictionCol= \"prediction\"# add the name of the column that has the predicted ratings. \n",
        "                                     ) "
      ]
    },
    {
      "cell_type": "code",
      "execution_count": null,
      "metadata": {
        "colab": {
          "base_uri": "https://localhost:8080/"
        },
        "id": "ZynS1jI-KCVZ",
        "outputId": "d6b78594-0eed-46cd-9321-d22f3277bf26"
      },
      "outputs": [
        {
          "name": "stdout",
          "output_type": "stream",
          "text": [
            "8.126878581858024\n"
          ]
        }
      ],
      "source": [
        "predictions=model.transform(test_ratings_all_df)\n",
        "RMSE = evaluator_seen.evaluate(predictions) # Use the evaluator to find the RMSE on the test set. \n",
        "print(RMSE)"
      ]
    },
    {
      "cell_type": "markdown",
      "metadata": {
        "id": "7E7RtC8eKTGG"
      },
      "source": [
        "#### Rank based Metrics"
      ]
    },
    {
      "cell_type": "markdown",
      "metadata": {
        "id": "21J-czd3KWmS"
      },
      "source": [
        "We will use the lenskit library to calculate the ranking-based matrics. The lenskit library is available in pandas only so we need to convert the data frames from PySpark dataframes to Pandas dataframes. "
      ]
    },
    {
      "cell_type": "code",
      "execution_count": null,
      "metadata": {
        "id": "RTvKoXnMKMOo"
      },
      "outputs": [],
      "source": [
        "all_recs_als = recommendations.toPandas()"
      ]
    },
    {
      "cell_type": "code",
      "execution_count": null,
      "metadata": {
        "id": "5XdzKX7bKa2E"
      },
      "outputs": [],
      "source": [
        "# Rename the columns of to eunsre that they match the columns names as in the cell below. \n",
        "\n",
        "column_names = {'user_id':'user','pos':'rank','recomended_recipe_id':'item','predicted_rating':'score'}# create a dictionary with current column names as keys and the intended column names as values. \n",
        "all_recs_als = all_recs_als.rename(columns=column_names)"
      ]
    },
    {
      "cell_type": "code",
      "execution_count": null,
      "metadata": {
        "colab": {
          "base_uri": "https://localhost:8080/",
          "height": 424
        },
        "id": "EeEG4V95Kn5Q",
        "outputId": "ef5156a6-fec2-4557-c2a1-a0f93d0a1698"
      },
      "outputs": [
        {
          "data": {
            "text/html": [
              "\n",
              "  <div id=\"df-db00325b-f767-4783-88e7-06d52d8692fb\">\n",
              "    <div class=\"colab-df-container\">\n",
              "      <div>\n",
              "<style scoped>\n",
              "    .dataframe tbody tr th:only-of-type {\n",
              "        vertical-align: middle;\n",
              "    }\n",
              "\n",
              "    .dataframe tbody tr th {\n",
              "        vertical-align: top;\n",
              "    }\n",
              "\n",
              "    .dataframe thead th {\n",
              "        text-align: right;\n",
              "    }\n",
              "</style>\n",
              "<table border=\"1\" class=\"dataframe\">\n",
              "  <thead>\n",
              "    <tr style=\"text-align: right;\">\n",
              "      <th></th>\n",
              "      <th>user</th>\n",
              "      <th>rank</th>\n",
              "      <th>item</th>\n",
              "      <th>score</th>\n",
              "    </tr>\n",
              "  </thead>\n",
              "  <tbody>\n",
              "    <tr>\n",
              "      <th>0</th>\n",
              "      <td>28170</td>\n",
              "      <td>0</td>\n",
              "      <td>393869</td>\n",
              "      <td>69.705353</td>\n",
              "    </tr>\n",
              "    <tr>\n",
              "      <th>1</th>\n",
              "      <td>28170</td>\n",
              "      <td>1</td>\n",
              "      <td>419104</td>\n",
              "      <td>55.946678</td>\n",
              "    </tr>\n",
              "    <tr>\n",
              "      <th>2</th>\n",
              "      <td>28170</td>\n",
              "      <td>2</td>\n",
              "      <td>282967</td>\n",
              "      <td>53.000317</td>\n",
              "    </tr>\n",
              "    <tr>\n",
              "      <th>3</th>\n",
              "      <td>28170</td>\n",
              "      <td>3</td>\n",
              "      <td>141570</td>\n",
              "      <td>52.260361</td>\n",
              "    </tr>\n",
              "    <tr>\n",
              "      <th>4</th>\n",
              "      <td>28170</td>\n",
              "      <td>4</td>\n",
              "      <td>132675</td>\n",
              "      <td>47.870216</td>\n",
              "    </tr>\n",
              "    <tr>\n",
              "      <th>...</th>\n",
              "      <td>...</td>\n",
              "      <td>...</td>\n",
              "      <td>...</td>\n",
              "      <td>...</td>\n",
              "    </tr>\n",
              "    <tr>\n",
              "      <th>233615</th>\n",
              "      <td>1904821</td>\n",
              "      <td>5</td>\n",
              "      <td>9410</td>\n",
              "      <td>0.000000</td>\n",
              "    </tr>\n",
              "    <tr>\n",
              "      <th>233616</th>\n",
              "      <td>1904821</td>\n",
              "      <td>6</td>\n",
              "      <td>9970</td>\n",
              "      <td>0.000000</td>\n",
              "    </tr>\n",
              "    <tr>\n",
              "      <th>233617</th>\n",
              "      <td>1904821</td>\n",
              "      <td>7</td>\n",
              "      <td>10150</td>\n",
              "      <td>0.000000</td>\n",
              "    </tr>\n",
              "    <tr>\n",
              "      <th>233618</th>\n",
              "      <td>1904821</td>\n",
              "      <td>8</td>\n",
              "      <td>11440</td>\n",
              "      <td>0.000000</td>\n",
              "    </tr>\n",
              "    <tr>\n",
              "      <th>233619</th>\n",
              "      <td>1904821</td>\n",
              "      <td>9</td>\n",
              "      <td>14160</td>\n",
              "      <td>0.000000</td>\n",
              "    </tr>\n",
              "  </tbody>\n",
              "</table>\n",
              "<p>233620 rows × 4 columns</p>\n",
              "</div>\n",
              "      <button class=\"colab-df-convert\" onclick=\"convertToInteractive('df-db00325b-f767-4783-88e7-06d52d8692fb')\"\n",
              "              title=\"Convert this dataframe to an interactive table.\"\n",
              "              style=\"display:none;\">\n",
              "        \n",
              "  <svg xmlns=\"http://www.w3.org/2000/svg\" height=\"24px\"viewBox=\"0 0 24 24\"\n",
              "       width=\"24px\">\n",
              "    <path d=\"M0 0h24v24H0V0z\" fill=\"none\"/>\n",
              "    <path d=\"M18.56 5.44l.94 2.06.94-2.06 2.06-.94-2.06-.94-.94-2.06-.94 2.06-2.06.94zm-11 1L8.5 8.5l.94-2.06 2.06-.94-2.06-.94L8.5 2.5l-.94 2.06-2.06.94zm10 10l.94 2.06.94-2.06 2.06-.94-2.06-.94-.94-2.06-.94 2.06-2.06.94z\"/><path d=\"M17.41 7.96l-1.37-1.37c-.4-.4-.92-.59-1.43-.59-.52 0-1.04.2-1.43.59L10.3 9.45l-7.72 7.72c-.78.78-.78 2.05 0 2.83L4 21.41c.39.39.9.59 1.41.59.51 0 1.02-.2 1.41-.59l7.78-7.78 2.81-2.81c.8-.78.8-2.07 0-2.86zM5.41 20L4 18.59l7.72-7.72 1.47 1.35L5.41 20z\"/>\n",
              "  </svg>\n",
              "      </button>\n",
              "      \n",
              "  <style>\n",
              "    .colab-df-container {\n",
              "      display:flex;\n",
              "      flex-wrap:wrap;\n",
              "      gap: 12px;\n",
              "    }\n",
              "\n",
              "    .colab-df-convert {\n",
              "      background-color: #E8F0FE;\n",
              "      border: none;\n",
              "      border-radius: 50%;\n",
              "      cursor: pointer;\n",
              "      display: none;\n",
              "      fill: #1967D2;\n",
              "      height: 32px;\n",
              "      padding: 0 0 0 0;\n",
              "      width: 32px;\n",
              "    }\n",
              "\n",
              "    .colab-df-convert:hover {\n",
              "      background-color: #E2EBFA;\n",
              "      box-shadow: 0px 1px 2px rgba(60, 64, 67, 0.3), 0px 1px 3px 1px rgba(60, 64, 67, 0.15);\n",
              "      fill: #174EA6;\n",
              "    }\n",
              "\n",
              "    [theme=dark] .colab-df-convert {\n",
              "      background-color: #3B4455;\n",
              "      fill: #D2E3FC;\n",
              "    }\n",
              "\n",
              "    [theme=dark] .colab-df-convert:hover {\n",
              "      background-color: #434B5C;\n",
              "      box-shadow: 0px 1px 3px 1px rgba(0, 0, 0, 0.15);\n",
              "      filter: drop-shadow(0px 1px 2px rgba(0, 0, 0, 0.3));\n",
              "      fill: #FFFFFF;\n",
              "    }\n",
              "  </style>\n",
              "\n",
              "      <script>\n",
              "        const buttonEl =\n",
              "          document.querySelector('#df-db00325b-f767-4783-88e7-06d52d8692fb button.colab-df-convert');\n",
              "        buttonEl.style.display =\n",
              "          google.colab.kernel.accessAllowed ? 'block' : 'none';\n",
              "\n",
              "        async function convertToInteractive(key) {\n",
              "          const element = document.querySelector('#df-db00325b-f767-4783-88e7-06d52d8692fb');\n",
              "          const dataTable =\n",
              "            await google.colab.kernel.invokeFunction('convertToInteractive',\n",
              "                                                     [key], {});\n",
              "          if (!dataTable) return;\n",
              "\n",
              "          const docLinkHtml = 'Like what you see? Visit the ' +\n",
              "            '<a target=\"_blank\" href=https://colab.research.google.com/notebooks/data_table.ipynb>data table notebook</a>'\n",
              "            + ' to learn more about interactive tables.';\n",
              "          element.innerHTML = '';\n",
              "          dataTable['output_type'] = 'display_data';\n",
              "          await google.colab.output.renderOutput(dataTable, element);\n",
              "          const docLink = document.createElement('div');\n",
              "          docLink.innerHTML = docLinkHtml;\n",
              "          element.appendChild(docLink);\n",
              "        }\n",
              "      </script>\n",
              "    </div>\n",
              "  </div>\n",
              "  "
            ],
            "text/plain": [
              "           user  rank    item      score\n",
              "0         28170     0  393869  69.705353\n",
              "1         28170     1  419104  55.946678\n",
              "2         28170     2  282967  53.000317\n",
              "3         28170     3  141570  52.260361\n",
              "4         28170     4  132675  47.870216\n",
              "...         ...   ...     ...        ...\n",
              "233615  1904821     5    9410   0.000000\n",
              "233616  1904821     6    9970   0.000000\n",
              "233617  1904821     7   10150   0.000000\n",
              "233618  1904821     8   11440   0.000000\n",
              "233619  1904821     9   14160   0.000000\n",
              "\n",
              "[233620 rows x 4 columns]"
            ]
          },
          "execution_count": 124,
          "metadata": {},
          "output_type": "execute_result"
        }
      ],
      "source": [
        "all_recs_als"
      ]
    },
    {
      "cell_type": "code",
      "execution_count": null,
      "metadata": {
        "id": "MdagAmIYKuJE"
      },
      "outputs": [],
      "source": [
        "# Adding a column to make sure the we know these recommendations are from the ALS algorithm. \n",
        "\n",
        "all_recs_als[\"algorithm\"] = \"ALS\""
      ]
    },
    {
      "cell_type": "code",
      "execution_count": null,
      "metadata": {
        "id": "Bk4DU5MdK1I8"
      },
      "outputs": [],
      "source": [
        "# Convert the test dataset to pandas and ensure that it has the same column names as shown in the cell below. \n",
        "# Also, note there are only three columns in the rest data. You have to ensure your test data looks identical. \n",
        "# test_data = (# add code to select the necessary columns and change the name of the columns. \n",
        "#                                 .toPandas())\n",
        "\n",
        "test_data =test_ratings_all_df.select(\"user_id\", \"recipe_id\",\"rating\").toPandas()\n",
        "column_names = {'user_id':'user','recipe_id':'item'}\n",
        "test_data = test_data.rename(columns=column_names)"
      ]
    },
    {
      "cell_type": "code",
      "execution_count": null,
      "metadata": {
        "colab": {
          "base_uri": "https://localhost:8080/",
          "height": 424
        },
        "id": "Edig2x7gK3Fi",
        "outputId": "1a5492e8-014d-40c3-c9d1-e75e6c808dd6"
      },
      "outputs": [
        {
          "data": {
            "text/html": [
              "\n",
              "  <div id=\"df-5e73fc2b-d2fe-4c2b-8781-43cc140427cb\">\n",
              "    <div class=\"colab-df-container\">\n",
              "      <div>\n",
              "<style scoped>\n",
              "    .dataframe tbody tr th:only-of-type {\n",
              "        vertical-align: middle;\n",
              "    }\n",
              "\n",
              "    .dataframe tbody tr th {\n",
              "        vertical-align: top;\n",
              "    }\n",
              "\n",
              "    .dataframe thead th {\n",
              "        text-align: right;\n",
              "    }\n",
              "</style>\n",
              "<table border=\"1\" class=\"dataframe\">\n",
              "  <thead>\n",
              "    <tr style=\"text-align: right;\">\n",
              "      <th></th>\n",
              "      <th>user</th>\n",
              "      <th>item</th>\n",
              "      <th>rating</th>\n",
              "    </tr>\n",
              "  </thead>\n",
              "  <tbody>\n",
              "    <tr>\n",
              "      <th>0</th>\n",
              "      <td>1802380878</td>\n",
              "      <td>35912</td>\n",
              "      <td>0</td>\n",
              "    </tr>\n",
              "    <tr>\n",
              "      <th>1</th>\n",
              "      <td>2001602879</td>\n",
              "      <td>40335</td>\n",
              "      <td>5</td>\n",
              "    </tr>\n",
              "    <tr>\n",
              "      <th>2</th>\n",
              "      <td>2758877</td>\n",
              "      <td>50348</td>\n",
              "      <td>0</td>\n",
              "    </tr>\n",
              "    <tr>\n",
              "      <th>3</th>\n",
              "      <td>199020</td>\n",
              "      <td>55265</td>\n",
              "      <td>5</td>\n",
              "    </tr>\n",
              "    <tr>\n",
              "      <th>4</th>\n",
              "      <td>369284</td>\n",
              "      <td>76143</td>\n",
              "      <td>5</td>\n",
              "    </tr>\n",
              "    <tr>\n",
              "      <th>...</th>\n",
              "      <td>...</td>\n",
              "      <td>...</td>\n",
              "      <td>...</td>\n",
              "    </tr>\n",
              "    <tr>\n",
              "      <th>18679</th>\n",
              "      <td>855082</td>\n",
              "      <td>438292</td>\n",
              "      <td>5</td>\n",
              "    </tr>\n",
              "    <tr>\n",
              "      <th>18680</th>\n",
              "      <td>1553277</td>\n",
              "      <td>447699</td>\n",
              "      <td>0</td>\n",
              "    </tr>\n",
              "    <tr>\n",
              "      <th>18681</th>\n",
              "      <td>2000072578</td>\n",
              "      <td>447699</td>\n",
              "      <td>5</td>\n",
              "    </tr>\n",
              "    <tr>\n",
              "      <th>18682</th>\n",
              "      <td>2775141</td>\n",
              "      <td>469503</td>\n",
              "      <td>5</td>\n",
              "    </tr>\n",
              "    <tr>\n",
              "      <th>18683</th>\n",
              "      <td>2345770</td>\n",
              "      <td>469503</td>\n",
              "      <td>0</td>\n",
              "    </tr>\n",
              "  </tbody>\n",
              "</table>\n",
              "<p>18684 rows × 3 columns</p>\n",
              "</div>\n",
              "      <button class=\"colab-df-convert\" onclick=\"convertToInteractive('df-5e73fc2b-d2fe-4c2b-8781-43cc140427cb')\"\n",
              "              title=\"Convert this dataframe to an interactive table.\"\n",
              "              style=\"display:none;\">\n",
              "        \n",
              "  <svg xmlns=\"http://www.w3.org/2000/svg\" height=\"24px\"viewBox=\"0 0 24 24\"\n",
              "       width=\"24px\">\n",
              "    <path d=\"M0 0h24v24H0V0z\" fill=\"none\"/>\n",
              "    <path d=\"M18.56 5.44l.94 2.06.94-2.06 2.06-.94-2.06-.94-.94-2.06-.94 2.06-2.06.94zm-11 1L8.5 8.5l.94-2.06 2.06-.94-2.06-.94L8.5 2.5l-.94 2.06-2.06.94zm10 10l.94 2.06.94-2.06 2.06-.94-2.06-.94-.94-2.06-.94 2.06-2.06.94z\"/><path d=\"M17.41 7.96l-1.37-1.37c-.4-.4-.92-.59-1.43-.59-.52 0-1.04.2-1.43.59L10.3 9.45l-7.72 7.72c-.78.78-.78 2.05 0 2.83L4 21.41c.39.39.9.59 1.41.59.51 0 1.02-.2 1.41-.59l7.78-7.78 2.81-2.81c.8-.78.8-2.07 0-2.86zM5.41 20L4 18.59l7.72-7.72 1.47 1.35L5.41 20z\"/>\n",
              "  </svg>\n",
              "      </button>\n",
              "      \n",
              "  <style>\n",
              "    .colab-df-container {\n",
              "      display:flex;\n",
              "      flex-wrap:wrap;\n",
              "      gap: 12px;\n",
              "    }\n",
              "\n",
              "    .colab-df-convert {\n",
              "      background-color: #E8F0FE;\n",
              "      border: none;\n",
              "      border-radius: 50%;\n",
              "      cursor: pointer;\n",
              "      display: none;\n",
              "      fill: #1967D2;\n",
              "      height: 32px;\n",
              "      padding: 0 0 0 0;\n",
              "      width: 32px;\n",
              "    }\n",
              "\n",
              "    .colab-df-convert:hover {\n",
              "      background-color: #E2EBFA;\n",
              "      box-shadow: 0px 1px 2px rgba(60, 64, 67, 0.3), 0px 1px 3px 1px rgba(60, 64, 67, 0.15);\n",
              "      fill: #174EA6;\n",
              "    }\n",
              "\n",
              "    [theme=dark] .colab-df-convert {\n",
              "      background-color: #3B4455;\n",
              "      fill: #D2E3FC;\n",
              "    }\n",
              "\n",
              "    [theme=dark] .colab-df-convert:hover {\n",
              "      background-color: #434B5C;\n",
              "      box-shadow: 0px 1px 3px 1px rgba(0, 0, 0, 0.15);\n",
              "      filter: drop-shadow(0px 1px 2px rgba(0, 0, 0, 0.3));\n",
              "      fill: #FFFFFF;\n",
              "    }\n",
              "  </style>\n",
              "\n",
              "      <script>\n",
              "        const buttonEl =\n",
              "          document.querySelector('#df-5e73fc2b-d2fe-4c2b-8781-43cc140427cb button.colab-df-convert');\n",
              "        buttonEl.style.display =\n",
              "          google.colab.kernel.accessAllowed ? 'block' : 'none';\n",
              "\n",
              "        async function convertToInteractive(key) {\n",
              "          const element = document.querySelector('#df-5e73fc2b-d2fe-4c2b-8781-43cc140427cb');\n",
              "          const dataTable =\n",
              "            await google.colab.kernel.invokeFunction('convertToInteractive',\n",
              "                                                     [key], {});\n",
              "          if (!dataTable) return;\n",
              "\n",
              "          const docLinkHtml = 'Like what you see? Visit the ' +\n",
              "            '<a target=\"_blank\" href=https://colab.research.google.com/notebooks/data_table.ipynb>data table notebook</a>'\n",
              "            + ' to learn more about interactive tables.';\n",
              "          element.innerHTML = '';\n",
              "          dataTable['output_type'] = 'display_data';\n",
              "          await google.colab.output.renderOutput(dataTable, element);\n",
              "          const docLink = document.createElement('div');\n",
              "          docLink.innerHTML = docLinkHtml;\n",
              "          element.appendChild(docLink);\n",
              "        }\n",
              "      </script>\n",
              "    </div>\n",
              "  </div>\n",
              "  "
            ],
            "text/plain": [
              "             user    item  rating\n",
              "0      1802380878   35912       0\n",
              "1      2001602879   40335       5\n",
              "2         2758877   50348       0\n",
              "3          199020   55265       5\n",
              "4          369284   76143       5\n",
              "...           ...     ...     ...\n",
              "18679      855082  438292       5\n",
              "18680     1553277  447699       0\n",
              "18681  2000072578  447699       5\n",
              "18682     2775141  469503       5\n",
              "18683     2345770  469503       0\n",
              "\n",
              "[18684 rows x 3 columns]"
            ]
          },
          "execution_count": 127,
          "metadata": {},
          "output_type": "execute_result"
        }
      ],
      "source": [
        "test_data"
      ]
    },
    {
      "cell_type": "code",
      "execution_count": null,
      "metadata": {
        "colab": {
          "base_uri": "https://localhost:8080/",
          "height": 238
        },
        "id": "Pti3K6K-K5AL",
        "outputId": "4cbcdfb3-0ce2-4d94-86c0-d5d819bfbcb9"
      },
      "outputs": [
        {
          "data": {
            "text/html": [
              "\n",
              "  <div id=\"df-4d6f4928-ac76-4003-aede-81cc616b150b\">\n",
              "    <div class=\"colab-df-container\">\n",
              "      <div>\n",
              "<style scoped>\n",
              "    .dataframe tbody tr th:only-of-type {\n",
              "        vertical-align: middle;\n",
              "    }\n",
              "\n",
              "    .dataframe tbody tr th {\n",
              "        vertical-align: top;\n",
              "    }\n",
              "\n",
              "    .dataframe thead th {\n",
              "        text-align: right;\n",
              "    }\n",
              "</style>\n",
              "<table border=\"1\" class=\"dataframe\">\n",
              "  <thead>\n",
              "    <tr style=\"text-align: right;\">\n",
              "      <th></th>\n",
              "      <th></th>\n",
              "      <th>nrecs</th>\n",
              "      <th>recip_rank</th>\n",
              "      <th>ndcg</th>\n",
              "      <th>dcg</th>\n",
              "    </tr>\n",
              "    <tr>\n",
              "      <th>algorithm</th>\n",
              "      <th>user</th>\n",
              "      <th></th>\n",
              "      <th></th>\n",
              "      <th></th>\n",
              "      <th></th>\n",
              "    </tr>\n",
              "  </thead>\n",
              "  <tbody>\n",
              "    <tr>\n",
              "      <th rowspan=\"5\" valign=\"top\">ALS</th>\n",
              "      <th>28170</th>\n",
              "      <td>10</td>\n",
              "      <td>0.0</td>\n",
              "      <td>NaN</td>\n",
              "      <td>NaN</td>\n",
              "    </tr>\n",
              "    <tr>\n",
              "      <th>56680</th>\n",
              "      <td>10</td>\n",
              "      <td>0.0</td>\n",
              "      <td>0.0</td>\n",
              "      <td>0.0</td>\n",
              "    </tr>\n",
              "    <tr>\n",
              "      <th>108460</th>\n",
              "      <td>10</td>\n",
              "      <td>0.0</td>\n",
              "      <td>0.0</td>\n",
              "      <td>0.0</td>\n",
              "    </tr>\n",
              "    <tr>\n",
              "      <th>139830</th>\n",
              "      <td>10</td>\n",
              "      <td>0.0</td>\n",
              "      <td>NaN</td>\n",
              "      <td>NaN</td>\n",
              "    </tr>\n",
              "    <tr>\n",
              "      <th>198430</th>\n",
              "      <td>10</td>\n",
              "      <td>0.0</td>\n",
              "      <td>NaN</td>\n",
              "      <td>NaN</td>\n",
              "    </tr>\n",
              "  </tbody>\n",
              "</table>\n",
              "</div>\n",
              "      <button class=\"colab-df-convert\" onclick=\"convertToInteractive('df-4d6f4928-ac76-4003-aede-81cc616b150b')\"\n",
              "              title=\"Convert this dataframe to an interactive table.\"\n",
              "              style=\"display:none;\">\n",
              "        \n",
              "  <svg xmlns=\"http://www.w3.org/2000/svg\" height=\"24px\"viewBox=\"0 0 24 24\"\n",
              "       width=\"24px\">\n",
              "    <path d=\"M0 0h24v24H0V0z\" fill=\"none\"/>\n",
              "    <path d=\"M18.56 5.44l.94 2.06.94-2.06 2.06-.94-2.06-.94-.94-2.06-.94 2.06-2.06.94zm-11 1L8.5 8.5l.94-2.06 2.06-.94-2.06-.94L8.5 2.5l-.94 2.06-2.06.94zm10 10l.94 2.06.94-2.06 2.06-.94-2.06-.94-.94-2.06-.94 2.06-2.06.94z\"/><path d=\"M17.41 7.96l-1.37-1.37c-.4-.4-.92-.59-1.43-.59-.52 0-1.04.2-1.43.59L10.3 9.45l-7.72 7.72c-.78.78-.78 2.05 0 2.83L4 21.41c.39.39.9.59 1.41.59.51 0 1.02-.2 1.41-.59l7.78-7.78 2.81-2.81c.8-.78.8-2.07 0-2.86zM5.41 20L4 18.59l7.72-7.72 1.47 1.35L5.41 20z\"/>\n",
              "  </svg>\n",
              "      </button>\n",
              "      \n",
              "  <style>\n",
              "    .colab-df-container {\n",
              "      display:flex;\n",
              "      flex-wrap:wrap;\n",
              "      gap: 12px;\n",
              "    }\n",
              "\n",
              "    .colab-df-convert {\n",
              "      background-color: #E8F0FE;\n",
              "      border: none;\n",
              "      border-radius: 50%;\n",
              "      cursor: pointer;\n",
              "      display: none;\n",
              "      fill: #1967D2;\n",
              "      height: 32px;\n",
              "      padding: 0 0 0 0;\n",
              "      width: 32px;\n",
              "    }\n",
              "\n",
              "    .colab-df-convert:hover {\n",
              "      background-color: #E2EBFA;\n",
              "      box-shadow: 0px 1px 2px rgba(60, 64, 67, 0.3), 0px 1px 3px 1px rgba(60, 64, 67, 0.15);\n",
              "      fill: #174EA6;\n",
              "    }\n",
              "\n",
              "    [theme=dark] .colab-df-convert {\n",
              "      background-color: #3B4455;\n",
              "      fill: #D2E3FC;\n",
              "    }\n",
              "\n",
              "    [theme=dark] .colab-df-convert:hover {\n",
              "      background-color: #434B5C;\n",
              "      box-shadow: 0px 1px 3px 1px rgba(0, 0, 0, 0.15);\n",
              "      filter: drop-shadow(0px 1px 2px rgba(0, 0, 0, 0.3));\n",
              "      fill: #FFFFFF;\n",
              "    }\n",
              "  </style>\n",
              "\n",
              "      <script>\n",
              "        const buttonEl =\n",
              "          document.querySelector('#df-4d6f4928-ac76-4003-aede-81cc616b150b button.colab-df-convert');\n",
              "        buttonEl.style.display =\n",
              "          google.colab.kernel.accessAllowed ? 'block' : 'none';\n",
              "\n",
              "        async function convertToInteractive(key) {\n",
              "          const element = document.querySelector('#df-4d6f4928-ac76-4003-aede-81cc616b150b');\n",
              "          const dataTable =\n",
              "            await google.colab.kernel.invokeFunction('convertToInteractive',\n",
              "                                                     [key], {});\n",
              "          if (!dataTable) return;\n",
              "\n",
              "          const docLinkHtml = 'Like what you see? Visit the ' +\n",
              "            '<a target=\"_blank\" href=https://colab.research.google.com/notebooks/data_table.ipynb>data table notebook</a>'\n",
              "            + ' to learn more about interactive tables.';\n",
              "          element.innerHTML = '';\n",
              "          dataTable['output_type'] = 'display_data';\n",
              "          await google.colab.output.renderOutput(dataTable, element);\n",
              "          const docLink = document.createElement('div');\n",
              "          docLink.innerHTML = docLinkHtml;\n",
              "          element.appendChild(docLink);\n",
              "        }\n",
              "      </script>\n",
              "    </div>\n",
              "  </div>\n",
              "  "
            ],
            "text/plain": [
              "                  nrecs  recip_rank  ndcg  dcg\n",
              "algorithm user                                \n",
              "ALS       28170      10         0.0   NaN  NaN\n",
              "          56680      10         0.0   0.0  0.0\n",
              "          108460     10         0.0   0.0  0.0\n",
              "          139830     10         0.0   NaN  NaN\n",
              "          198430     10         0.0   NaN  NaN"
            ]
          },
          "execution_count": 128,
          "metadata": {},
          "output_type": "execute_result"
        }
      ],
      "source": [
        "# code to calculate the necessary metrics \n",
        "# the code below uses lenskit library to evaluate the rank metrics\n",
        "\n",
        "rla = topn.RecListAnalysis()\n",
        "rla.add_metric(topn.recip_rank)\n",
        "rla.add_metric(topn.ndcg)\n",
        "rla.add_metric(topn.dcg)\n",
        "results = rla.compute(all_recs_als, test_data)\n",
        "results.head()"
      ]
    },
    {
      "cell_type": "markdown",
      "metadata": {
        "id": "rGsFkIQHLFux"
      },
      "source": [
        "Manual Prediction Checking"
      ]
    },
    {
      "cell_type": "markdown",
      "metadata": {
        "id": "kzwoENYKLNlj"
      },
      "source": [
        "1. Why are ndcg and dcg nulls? EG: user 28170"
      ]
    },
    {
      "cell_type": "code",
      "execution_count": null,
      "metadata": {
        "colab": {
          "base_uri": "https://localhost:8080/",
          "height": 49
        },
        "id": "CvyxI-eBK9_v",
        "outputId": "e9d51039-7248-4587-f84b-8fbcd98c6536"
      },
      "outputs": [
        {
          "data": {
            "text/html": [
              "\n",
              "  <div id=\"df-678ea466-ad9e-497b-8b34-e7fce95368d6\">\n",
              "    <div class=\"colab-df-container\">\n",
              "      <div>\n",
              "<style scoped>\n",
              "    .dataframe tbody tr th:only-of-type {\n",
              "        vertical-align: middle;\n",
              "    }\n",
              "\n",
              "    .dataframe tbody tr th {\n",
              "        vertical-align: top;\n",
              "    }\n",
              "\n",
              "    .dataframe thead th {\n",
              "        text-align: right;\n",
              "    }\n",
              "</style>\n",
              "<table border=\"1\" class=\"dataframe\">\n",
              "  <thead>\n",
              "    <tr style=\"text-align: right;\">\n",
              "      <th></th>\n",
              "      <th>user</th>\n",
              "      <th>item</th>\n",
              "      <th>rating</th>\n",
              "    </tr>\n",
              "  </thead>\n",
              "  <tbody>\n",
              "  </tbody>\n",
              "</table>\n",
              "</div>\n",
              "      <button class=\"colab-df-convert\" onclick=\"convertToInteractive('df-678ea466-ad9e-497b-8b34-e7fce95368d6')\"\n",
              "              title=\"Convert this dataframe to an interactive table.\"\n",
              "              style=\"display:none;\">\n",
              "        \n",
              "  <svg xmlns=\"http://www.w3.org/2000/svg\" height=\"24px\"viewBox=\"0 0 24 24\"\n",
              "       width=\"24px\">\n",
              "    <path d=\"M0 0h24v24H0V0z\" fill=\"none\"/>\n",
              "    <path d=\"M18.56 5.44l.94 2.06.94-2.06 2.06-.94-2.06-.94-.94-2.06-.94 2.06-2.06.94zm-11 1L8.5 8.5l.94-2.06 2.06-.94-2.06-.94L8.5 2.5l-.94 2.06-2.06.94zm10 10l.94 2.06.94-2.06 2.06-.94-2.06-.94-.94-2.06-.94 2.06-2.06.94z\"/><path d=\"M17.41 7.96l-1.37-1.37c-.4-.4-.92-.59-1.43-.59-.52 0-1.04.2-1.43.59L10.3 9.45l-7.72 7.72c-.78.78-.78 2.05 0 2.83L4 21.41c.39.39.9.59 1.41.59.51 0 1.02-.2 1.41-.59l7.78-7.78 2.81-2.81c.8-.78.8-2.07 0-2.86zM5.41 20L4 18.59l7.72-7.72 1.47 1.35L5.41 20z\"/>\n",
              "  </svg>\n",
              "      </button>\n",
              "      \n",
              "  <style>\n",
              "    .colab-df-container {\n",
              "      display:flex;\n",
              "      flex-wrap:wrap;\n",
              "      gap: 12px;\n",
              "    }\n",
              "\n",
              "    .colab-df-convert {\n",
              "      background-color: #E8F0FE;\n",
              "      border: none;\n",
              "      border-radius: 50%;\n",
              "      cursor: pointer;\n",
              "      display: none;\n",
              "      fill: #1967D2;\n",
              "      height: 32px;\n",
              "      padding: 0 0 0 0;\n",
              "      width: 32px;\n",
              "    }\n",
              "\n",
              "    .colab-df-convert:hover {\n",
              "      background-color: #E2EBFA;\n",
              "      box-shadow: 0px 1px 2px rgba(60, 64, 67, 0.3), 0px 1px 3px 1px rgba(60, 64, 67, 0.15);\n",
              "      fill: #174EA6;\n",
              "    }\n",
              "\n",
              "    [theme=dark] .colab-df-convert {\n",
              "      background-color: #3B4455;\n",
              "      fill: #D2E3FC;\n",
              "    }\n",
              "\n",
              "    [theme=dark] .colab-df-convert:hover {\n",
              "      background-color: #434B5C;\n",
              "      box-shadow: 0px 1px 3px 1px rgba(0, 0, 0, 0.15);\n",
              "      filter: drop-shadow(0px 1px 2px rgba(0, 0, 0, 0.3));\n",
              "      fill: #FFFFFF;\n",
              "    }\n",
              "  </style>\n",
              "\n",
              "      <script>\n",
              "        const buttonEl =\n",
              "          document.querySelector('#df-678ea466-ad9e-497b-8b34-e7fce95368d6 button.colab-df-convert');\n",
              "        buttonEl.style.display =\n",
              "          google.colab.kernel.accessAllowed ? 'block' : 'none';\n",
              "\n",
              "        async function convertToInteractive(key) {\n",
              "          const element = document.querySelector('#df-678ea466-ad9e-497b-8b34-e7fce95368d6');\n",
              "          const dataTable =\n",
              "            await google.colab.kernel.invokeFunction('convertToInteractive',\n",
              "                                                     [key], {});\n",
              "          if (!dataTable) return;\n",
              "\n",
              "          const docLinkHtml = 'Like what you see? Visit the ' +\n",
              "            '<a target=\"_blank\" href=https://colab.research.google.com/notebooks/data_table.ipynb>data table notebook</a>'\n",
              "            + ' to learn more about interactive tables.';\n",
              "          element.innerHTML = '';\n",
              "          dataTable['output_type'] = 'display_data';\n",
              "          await google.colab.output.renderOutput(dataTable, element);\n",
              "          const docLink = document.createElement('div');\n",
              "          docLink.innerHTML = docLinkHtml;\n",
              "          element.appendChild(docLink);\n",
              "        }\n",
              "      </script>\n",
              "    </div>\n",
              "  </div>\n",
              "  "
            ],
            "text/plain": [
              "Empty DataFrame\n",
              "Columns: [user, item, rating]\n",
              "Index: []"
            ]
          },
          "execution_count": 129,
          "metadata": {},
          "output_type": "execute_result"
        }
      ],
      "source": [
        "test_data[test_data.user == 28170]"
      ]
    },
    {
      "cell_type": "code",
      "execution_count": null,
      "metadata": {
        "colab": {
          "base_uri": "https://localhost:8080/",
          "height": 363
        },
        "id": "fkrzgTMULQKJ",
        "outputId": "43666a39-bea8-4123-831b-5eb9366c060b"
      },
      "outputs": [
        {
          "data": {
            "text/html": [
              "\n",
              "  <div id=\"df-36ea9863-d98e-4f1f-b084-0885f872fe39\">\n",
              "    <div class=\"colab-df-container\">\n",
              "      <div>\n",
              "<style scoped>\n",
              "    .dataframe tbody tr th:only-of-type {\n",
              "        vertical-align: middle;\n",
              "    }\n",
              "\n",
              "    .dataframe tbody tr th {\n",
              "        vertical-align: top;\n",
              "    }\n",
              "\n",
              "    .dataframe thead th {\n",
              "        text-align: right;\n",
              "    }\n",
              "</style>\n",
              "<table border=\"1\" class=\"dataframe\">\n",
              "  <thead>\n",
              "    <tr style=\"text-align: right;\">\n",
              "      <th></th>\n",
              "      <th>user</th>\n",
              "      <th>rank</th>\n",
              "      <th>item</th>\n",
              "      <th>score</th>\n",
              "      <th>algorithm</th>\n",
              "    </tr>\n",
              "  </thead>\n",
              "  <tbody>\n",
              "    <tr>\n",
              "      <th>0</th>\n",
              "      <td>28170</td>\n",
              "      <td>0</td>\n",
              "      <td>393869</td>\n",
              "      <td>69.705353</td>\n",
              "      <td>ALS</td>\n",
              "    </tr>\n",
              "    <tr>\n",
              "      <th>1</th>\n",
              "      <td>28170</td>\n",
              "      <td>1</td>\n",
              "      <td>419104</td>\n",
              "      <td>55.946678</td>\n",
              "      <td>ALS</td>\n",
              "    </tr>\n",
              "    <tr>\n",
              "      <th>2</th>\n",
              "      <td>28170</td>\n",
              "      <td>2</td>\n",
              "      <td>282967</td>\n",
              "      <td>53.000317</td>\n",
              "      <td>ALS</td>\n",
              "    </tr>\n",
              "    <tr>\n",
              "      <th>3</th>\n",
              "      <td>28170</td>\n",
              "      <td>3</td>\n",
              "      <td>141570</td>\n",
              "      <td>52.260361</td>\n",
              "      <td>ALS</td>\n",
              "    </tr>\n",
              "    <tr>\n",
              "      <th>4</th>\n",
              "      <td>28170</td>\n",
              "      <td>4</td>\n",
              "      <td>132675</td>\n",
              "      <td>47.870216</td>\n",
              "      <td>ALS</td>\n",
              "    </tr>\n",
              "    <tr>\n",
              "      <th>5</th>\n",
              "      <td>28170</td>\n",
              "      <td>5</td>\n",
              "      <td>297381</td>\n",
              "      <td>47.798813</td>\n",
              "      <td>ALS</td>\n",
              "    </tr>\n",
              "    <tr>\n",
              "      <th>6</th>\n",
              "      <td>28170</td>\n",
              "      <td>6</td>\n",
              "      <td>268010</td>\n",
              "      <td>47.089630</td>\n",
              "      <td>ALS</td>\n",
              "    </tr>\n",
              "    <tr>\n",
              "      <th>7</th>\n",
              "      <td>28170</td>\n",
              "      <td>7</td>\n",
              "      <td>214127</td>\n",
              "      <td>46.031509</td>\n",
              "      <td>ALS</td>\n",
              "    </tr>\n",
              "    <tr>\n",
              "      <th>8</th>\n",
              "      <td>28170</td>\n",
              "      <td>8</td>\n",
              "      <td>31379</td>\n",
              "      <td>45.832798</td>\n",
              "      <td>ALS</td>\n",
              "    </tr>\n",
              "    <tr>\n",
              "      <th>9</th>\n",
              "      <td>28170</td>\n",
              "      <td>9</td>\n",
              "      <td>62510</td>\n",
              "      <td>43.473637</td>\n",
              "      <td>ALS</td>\n",
              "    </tr>\n",
              "  </tbody>\n",
              "</table>\n",
              "</div>\n",
              "      <button class=\"colab-df-convert\" onclick=\"convertToInteractive('df-36ea9863-d98e-4f1f-b084-0885f872fe39')\"\n",
              "              title=\"Convert this dataframe to an interactive table.\"\n",
              "              style=\"display:none;\">\n",
              "        \n",
              "  <svg xmlns=\"http://www.w3.org/2000/svg\" height=\"24px\"viewBox=\"0 0 24 24\"\n",
              "       width=\"24px\">\n",
              "    <path d=\"M0 0h24v24H0V0z\" fill=\"none\"/>\n",
              "    <path d=\"M18.56 5.44l.94 2.06.94-2.06 2.06-.94-2.06-.94-.94-2.06-.94 2.06-2.06.94zm-11 1L8.5 8.5l.94-2.06 2.06-.94-2.06-.94L8.5 2.5l-.94 2.06-2.06.94zm10 10l.94 2.06.94-2.06 2.06-.94-2.06-.94-.94-2.06-.94 2.06-2.06.94z\"/><path d=\"M17.41 7.96l-1.37-1.37c-.4-.4-.92-.59-1.43-.59-.52 0-1.04.2-1.43.59L10.3 9.45l-7.72 7.72c-.78.78-.78 2.05 0 2.83L4 21.41c.39.39.9.59 1.41.59.51 0 1.02-.2 1.41-.59l7.78-7.78 2.81-2.81c.8-.78.8-2.07 0-2.86zM5.41 20L4 18.59l7.72-7.72 1.47 1.35L5.41 20z\"/>\n",
              "  </svg>\n",
              "      </button>\n",
              "      \n",
              "  <style>\n",
              "    .colab-df-container {\n",
              "      display:flex;\n",
              "      flex-wrap:wrap;\n",
              "      gap: 12px;\n",
              "    }\n",
              "\n",
              "    .colab-df-convert {\n",
              "      background-color: #E8F0FE;\n",
              "      border: none;\n",
              "      border-radius: 50%;\n",
              "      cursor: pointer;\n",
              "      display: none;\n",
              "      fill: #1967D2;\n",
              "      height: 32px;\n",
              "      padding: 0 0 0 0;\n",
              "      width: 32px;\n",
              "    }\n",
              "\n",
              "    .colab-df-convert:hover {\n",
              "      background-color: #E2EBFA;\n",
              "      box-shadow: 0px 1px 2px rgba(60, 64, 67, 0.3), 0px 1px 3px 1px rgba(60, 64, 67, 0.15);\n",
              "      fill: #174EA6;\n",
              "    }\n",
              "\n",
              "    [theme=dark] .colab-df-convert {\n",
              "      background-color: #3B4455;\n",
              "      fill: #D2E3FC;\n",
              "    }\n",
              "\n",
              "    [theme=dark] .colab-df-convert:hover {\n",
              "      background-color: #434B5C;\n",
              "      box-shadow: 0px 1px 3px 1px rgba(0, 0, 0, 0.15);\n",
              "      filter: drop-shadow(0px 1px 2px rgba(0, 0, 0, 0.3));\n",
              "      fill: #FFFFFF;\n",
              "    }\n",
              "  </style>\n",
              "\n",
              "      <script>\n",
              "        const buttonEl =\n",
              "          document.querySelector('#df-36ea9863-d98e-4f1f-b084-0885f872fe39 button.colab-df-convert');\n",
              "        buttonEl.style.display =\n",
              "          google.colab.kernel.accessAllowed ? 'block' : 'none';\n",
              "\n",
              "        async function convertToInteractive(key) {\n",
              "          const element = document.querySelector('#df-36ea9863-d98e-4f1f-b084-0885f872fe39');\n",
              "          const dataTable =\n",
              "            await google.colab.kernel.invokeFunction('convertToInteractive',\n",
              "                                                     [key], {});\n",
              "          if (!dataTable) return;\n",
              "\n",
              "          const docLinkHtml = 'Like what you see? Visit the ' +\n",
              "            '<a target=\"_blank\" href=https://colab.research.google.com/notebooks/data_table.ipynb>data table notebook</a>'\n",
              "            + ' to learn more about interactive tables.';\n",
              "          element.innerHTML = '';\n",
              "          dataTable['output_type'] = 'display_data';\n",
              "          await google.colab.output.renderOutput(dataTable, element);\n",
              "          const docLink = document.createElement('div');\n",
              "          docLink.innerHTML = docLinkHtml;\n",
              "          element.appendChild(docLink);\n",
              "        }\n",
              "      </script>\n",
              "    </div>\n",
              "  </div>\n",
              "  "
            ],
            "text/plain": [
              "    user  rank    item      score algorithm\n",
              "0  28170     0  393869  69.705353       ALS\n",
              "1  28170     1  419104  55.946678       ALS\n",
              "2  28170     2  282967  53.000317       ALS\n",
              "3  28170     3  141570  52.260361       ALS\n",
              "4  28170     4  132675  47.870216       ALS\n",
              "5  28170     5  297381  47.798813       ALS\n",
              "6  28170     6  268010  47.089630       ALS\n",
              "7  28170     7  214127  46.031509       ALS\n",
              "8  28170     8   31379  45.832798       ALS\n",
              "9  28170     9   62510  43.473637       ALS"
            ]
          },
          "execution_count": 130,
          "metadata": {},
          "output_type": "execute_result"
        }
      ],
      "source": [
        "all_recs_als[all_recs_als.user == 28170]"
      ]
    },
    {
      "cell_type": "markdown",
      "metadata": {
        "id": "QwsgZjgVLbBX"
      },
      "source": [
        "User ```28170``` does not appear in the test set. Hence cannot be evaluated.\n"
      ]
    },
    {
      "cell_type": "markdown",
      "metadata": {
        "id": "8J9jF-baLfzm"
      },
      "source": [
        "\n",
        "2. Why are all metrics 0 for specific users?"
      ]
    },
    {
      "cell_type": "code",
      "execution_count": null,
      "metadata": {
        "colab": {
          "base_uri": "https://localhost:8080/",
          "height": 81
        },
        "id": "cOC87t7GLSdg",
        "outputId": "171936de-559f-4c7d-ea42-2de7077c82f4"
      },
      "outputs": [
        {
          "data": {
            "text/html": [
              "\n",
              "  <div id=\"df-3ccca5b1-31e8-4948-bc69-084d30b00584\">\n",
              "    <div class=\"colab-df-container\">\n",
              "      <div>\n",
              "<style scoped>\n",
              "    .dataframe tbody tr th:only-of-type {\n",
              "        vertical-align: middle;\n",
              "    }\n",
              "\n",
              "    .dataframe tbody tr th {\n",
              "        vertical-align: top;\n",
              "    }\n",
              "\n",
              "    .dataframe thead th {\n",
              "        text-align: right;\n",
              "    }\n",
              "</style>\n",
              "<table border=\"1\" class=\"dataframe\">\n",
              "  <thead>\n",
              "    <tr style=\"text-align: right;\">\n",
              "      <th></th>\n",
              "      <th>user</th>\n",
              "      <th>item</th>\n",
              "      <th>rating</th>\n",
              "    </tr>\n",
              "  </thead>\n",
              "  <tbody>\n",
              "    <tr>\n",
              "      <th>446</th>\n",
              "      <td>56680</td>\n",
              "      <td>229831</td>\n",
              "      <td>5</td>\n",
              "    </tr>\n",
              "  </tbody>\n",
              "</table>\n",
              "</div>\n",
              "      <button class=\"colab-df-convert\" onclick=\"convertToInteractive('df-3ccca5b1-31e8-4948-bc69-084d30b00584')\"\n",
              "              title=\"Convert this dataframe to an interactive table.\"\n",
              "              style=\"display:none;\">\n",
              "        \n",
              "  <svg xmlns=\"http://www.w3.org/2000/svg\" height=\"24px\"viewBox=\"0 0 24 24\"\n",
              "       width=\"24px\">\n",
              "    <path d=\"M0 0h24v24H0V0z\" fill=\"none\"/>\n",
              "    <path d=\"M18.56 5.44l.94 2.06.94-2.06 2.06-.94-2.06-.94-.94-2.06-.94 2.06-2.06.94zm-11 1L8.5 8.5l.94-2.06 2.06-.94-2.06-.94L8.5 2.5l-.94 2.06-2.06.94zm10 10l.94 2.06.94-2.06 2.06-.94-2.06-.94-.94-2.06-.94 2.06-2.06.94z\"/><path d=\"M17.41 7.96l-1.37-1.37c-.4-.4-.92-.59-1.43-.59-.52 0-1.04.2-1.43.59L10.3 9.45l-7.72 7.72c-.78.78-.78 2.05 0 2.83L4 21.41c.39.39.9.59 1.41.59.51 0 1.02-.2 1.41-.59l7.78-7.78 2.81-2.81c.8-.78.8-2.07 0-2.86zM5.41 20L4 18.59l7.72-7.72 1.47 1.35L5.41 20z\"/>\n",
              "  </svg>\n",
              "      </button>\n",
              "      \n",
              "  <style>\n",
              "    .colab-df-container {\n",
              "      display:flex;\n",
              "      flex-wrap:wrap;\n",
              "      gap: 12px;\n",
              "    }\n",
              "\n",
              "    .colab-df-convert {\n",
              "      background-color: #E8F0FE;\n",
              "      border: none;\n",
              "      border-radius: 50%;\n",
              "      cursor: pointer;\n",
              "      display: none;\n",
              "      fill: #1967D2;\n",
              "      height: 32px;\n",
              "      padding: 0 0 0 0;\n",
              "      width: 32px;\n",
              "    }\n",
              "\n",
              "    .colab-df-convert:hover {\n",
              "      background-color: #E2EBFA;\n",
              "      box-shadow: 0px 1px 2px rgba(60, 64, 67, 0.3), 0px 1px 3px 1px rgba(60, 64, 67, 0.15);\n",
              "      fill: #174EA6;\n",
              "    }\n",
              "\n",
              "    [theme=dark] .colab-df-convert {\n",
              "      background-color: #3B4455;\n",
              "      fill: #D2E3FC;\n",
              "    }\n",
              "\n",
              "    [theme=dark] .colab-df-convert:hover {\n",
              "      background-color: #434B5C;\n",
              "      box-shadow: 0px 1px 3px 1px rgba(0, 0, 0, 0.15);\n",
              "      filter: drop-shadow(0px 1px 2px rgba(0, 0, 0, 0.3));\n",
              "      fill: #FFFFFF;\n",
              "    }\n",
              "  </style>\n",
              "\n",
              "      <script>\n",
              "        const buttonEl =\n",
              "          document.querySelector('#df-3ccca5b1-31e8-4948-bc69-084d30b00584 button.colab-df-convert');\n",
              "        buttonEl.style.display =\n",
              "          google.colab.kernel.accessAllowed ? 'block' : 'none';\n",
              "\n",
              "        async function convertToInteractive(key) {\n",
              "          const element = document.querySelector('#df-3ccca5b1-31e8-4948-bc69-084d30b00584');\n",
              "          const dataTable =\n",
              "            await google.colab.kernel.invokeFunction('convertToInteractive',\n",
              "                                                     [key], {});\n",
              "          if (!dataTable) return;\n",
              "\n",
              "          const docLinkHtml = 'Like what you see? Visit the ' +\n",
              "            '<a target=\"_blank\" href=https://colab.research.google.com/notebooks/data_table.ipynb>data table notebook</a>'\n",
              "            + ' to learn more about interactive tables.';\n",
              "          element.innerHTML = '';\n",
              "          dataTable['output_type'] = 'display_data';\n",
              "          await google.colab.output.renderOutput(dataTable, element);\n",
              "          const docLink = document.createElement('div');\n",
              "          docLink.innerHTML = docLinkHtml;\n",
              "          element.appendChild(docLink);\n",
              "        }\n",
              "      </script>\n",
              "    </div>\n",
              "  </div>\n",
              "  "
            ],
            "text/plain": [
              "      user    item  rating\n",
              "446  56680  229831       5"
            ]
          },
          "execution_count": 131,
          "metadata": {},
          "output_type": "execute_result"
        }
      ],
      "source": [
        "test_data[test_data.user == 56680]"
      ]
    },
    {
      "cell_type": "code",
      "execution_count": null,
      "metadata": {
        "colab": {
          "base_uri": "https://localhost:8080/",
          "height": 363
        },
        "id": "sHcTqhG2LlIX",
        "outputId": "8f242a8b-b7e2-46b1-e44f-d9a0c8e0abf7"
      },
      "outputs": [
        {
          "data": {
            "text/html": [
              "\n",
              "  <div id=\"df-9a35cf1a-e9e1-4404-b5fa-d9132e38e9aa\">\n",
              "    <div class=\"colab-df-container\">\n",
              "      <div>\n",
              "<style scoped>\n",
              "    .dataframe tbody tr th:only-of-type {\n",
              "        vertical-align: middle;\n",
              "    }\n",
              "\n",
              "    .dataframe tbody tr th {\n",
              "        vertical-align: top;\n",
              "    }\n",
              "\n",
              "    .dataframe thead th {\n",
              "        text-align: right;\n",
              "    }\n",
              "</style>\n",
              "<table border=\"1\" class=\"dataframe\">\n",
              "  <thead>\n",
              "    <tr style=\"text-align: right;\">\n",
              "      <th></th>\n",
              "      <th>user</th>\n",
              "      <th>rank</th>\n",
              "      <th>item</th>\n",
              "      <th>score</th>\n",
              "      <th>algorithm</th>\n",
              "    </tr>\n",
              "  </thead>\n",
              "  <tbody>\n",
              "    <tr>\n",
              "      <th>10</th>\n",
              "      <td>56680</td>\n",
              "      <td>0</td>\n",
              "      <td>258596</td>\n",
              "      <td>34.040279</td>\n",
              "      <td>ALS</td>\n",
              "    </tr>\n",
              "    <tr>\n",
              "      <th>11</th>\n",
              "      <td>56680</td>\n",
              "      <td>1</td>\n",
              "      <td>395776</td>\n",
              "      <td>33.659737</td>\n",
              "      <td>ALS</td>\n",
              "    </tr>\n",
              "    <tr>\n",
              "      <th>12</th>\n",
              "      <td>56680</td>\n",
              "      <td>2</td>\n",
              "      <td>128332</td>\n",
              "      <td>33.632332</td>\n",
              "      <td>ALS</td>\n",
              "    </tr>\n",
              "    <tr>\n",
              "      <th>13</th>\n",
              "      <td>56680</td>\n",
              "      <td>3</td>\n",
              "      <td>222852</td>\n",
              "      <td>32.111568</td>\n",
              "      <td>ALS</td>\n",
              "    </tr>\n",
              "    <tr>\n",
              "      <th>14</th>\n",
              "      <td>56680</td>\n",
              "      <td>4</td>\n",
              "      <td>402309</td>\n",
              "      <td>31.759281</td>\n",
              "      <td>ALS</td>\n",
              "    </tr>\n",
              "    <tr>\n",
              "      <th>15</th>\n",
              "      <td>56680</td>\n",
              "      <td>5</td>\n",
              "      <td>428605</td>\n",
              "      <td>30.356880</td>\n",
              "      <td>ALS</td>\n",
              "    </tr>\n",
              "    <tr>\n",
              "      <th>16</th>\n",
              "      <td>56680</td>\n",
              "      <td>6</td>\n",
              "      <td>170626</td>\n",
              "      <td>29.946934</td>\n",
              "      <td>ALS</td>\n",
              "    </tr>\n",
              "    <tr>\n",
              "      <th>17</th>\n",
              "      <td>56680</td>\n",
              "      <td>7</td>\n",
              "      <td>370127</td>\n",
              "      <td>29.672890</td>\n",
              "      <td>ALS</td>\n",
              "    </tr>\n",
              "    <tr>\n",
              "      <th>18</th>\n",
              "      <td>56680</td>\n",
              "      <td>8</td>\n",
              "      <td>273032</td>\n",
              "      <td>29.200851</td>\n",
              "      <td>ALS</td>\n",
              "    </tr>\n",
              "    <tr>\n",
              "      <th>19</th>\n",
              "      <td>56680</td>\n",
              "      <td>9</td>\n",
              "      <td>230863</td>\n",
              "      <td>29.072641</td>\n",
              "      <td>ALS</td>\n",
              "    </tr>\n",
              "  </tbody>\n",
              "</table>\n",
              "</div>\n",
              "      <button class=\"colab-df-convert\" onclick=\"convertToInteractive('df-9a35cf1a-e9e1-4404-b5fa-d9132e38e9aa')\"\n",
              "              title=\"Convert this dataframe to an interactive table.\"\n",
              "              style=\"display:none;\">\n",
              "        \n",
              "  <svg xmlns=\"http://www.w3.org/2000/svg\" height=\"24px\"viewBox=\"0 0 24 24\"\n",
              "       width=\"24px\">\n",
              "    <path d=\"M0 0h24v24H0V0z\" fill=\"none\"/>\n",
              "    <path d=\"M18.56 5.44l.94 2.06.94-2.06 2.06-.94-2.06-.94-.94-2.06-.94 2.06-2.06.94zm-11 1L8.5 8.5l.94-2.06 2.06-.94-2.06-.94L8.5 2.5l-.94 2.06-2.06.94zm10 10l.94 2.06.94-2.06 2.06-.94-2.06-.94-.94-2.06-.94 2.06-2.06.94z\"/><path d=\"M17.41 7.96l-1.37-1.37c-.4-.4-.92-.59-1.43-.59-.52 0-1.04.2-1.43.59L10.3 9.45l-7.72 7.72c-.78.78-.78 2.05 0 2.83L4 21.41c.39.39.9.59 1.41.59.51 0 1.02-.2 1.41-.59l7.78-7.78 2.81-2.81c.8-.78.8-2.07 0-2.86zM5.41 20L4 18.59l7.72-7.72 1.47 1.35L5.41 20z\"/>\n",
              "  </svg>\n",
              "      </button>\n",
              "      \n",
              "  <style>\n",
              "    .colab-df-container {\n",
              "      display:flex;\n",
              "      flex-wrap:wrap;\n",
              "      gap: 12px;\n",
              "    }\n",
              "\n",
              "    .colab-df-convert {\n",
              "      background-color: #E8F0FE;\n",
              "      border: none;\n",
              "      border-radius: 50%;\n",
              "      cursor: pointer;\n",
              "      display: none;\n",
              "      fill: #1967D2;\n",
              "      height: 32px;\n",
              "      padding: 0 0 0 0;\n",
              "      width: 32px;\n",
              "    }\n",
              "\n",
              "    .colab-df-convert:hover {\n",
              "      background-color: #E2EBFA;\n",
              "      box-shadow: 0px 1px 2px rgba(60, 64, 67, 0.3), 0px 1px 3px 1px rgba(60, 64, 67, 0.15);\n",
              "      fill: #174EA6;\n",
              "    }\n",
              "\n",
              "    [theme=dark] .colab-df-convert {\n",
              "      background-color: #3B4455;\n",
              "      fill: #D2E3FC;\n",
              "    }\n",
              "\n",
              "    [theme=dark] .colab-df-convert:hover {\n",
              "      background-color: #434B5C;\n",
              "      box-shadow: 0px 1px 3px 1px rgba(0, 0, 0, 0.15);\n",
              "      filter: drop-shadow(0px 1px 2px rgba(0, 0, 0, 0.3));\n",
              "      fill: #FFFFFF;\n",
              "    }\n",
              "  </style>\n",
              "\n",
              "      <script>\n",
              "        const buttonEl =\n",
              "          document.querySelector('#df-9a35cf1a-e9e1-4404-b5fa-d9132e38e9aa button.colab-df-convert');\n",
              "        buttonEl.style.display =\n",
              "          google.colab.kernel.accessAllowed ? 'block' : 'none';\n",
              "\n",
              "        async function convertToInteractive(key) {\n",
              "          const element = document.querySelector('#df-9a35cf1a-e9e1-4404-b5fa-d9132e38e9aa');\n",
              "          const dataTable =\n",
              "            await google.colab.kernel.invokeFunction('convertToInteractive',\n",
              "                                                     [key], {});\n",
              "          if (!dataTable) return;\n",
              "\n",
              "          const docLinkHtml = 'Like what you see? Visit the ' +\n",
              "            '<a target=\"_blank\" href=https://colab.research.google.com/notebooks/data_table.ipynb>data table notebook</a>'\n",
              "            + ' to learn more about interactive tables.';\n",
              "          element.innerHTML = '';\n",
              "          dataTable['output_type'] = 'display_data';\n",
              "          await google.colab.output.renderOutput(dataTable, element);\n",
              "          const docLink = document.createElement('div');\n",
              "          docLink.innerHTML = docLinkHtml;\n",
              "          element.appendChild(docLink);\n",
              "        }\n",
              "      </script>\n",
              "    </div>\n",
              "  </div>\n",
              "  "
            ],
            "text/plain": [
              "     user  rank    item      score algorithm\n",
              "10  56680     0  258596  34.040279       ALS\n",
              "11  56680     1  395776  33.659737       ALS\n",
              "12  56680     2  128332  33.632332       ALS\n",
              "13  56680     3  222852  32.111568       ALS\n",
              "14  56680     4  402309  31.759281       ALS\n",
              "15  56680     5  428605  30.356880       ALS\n",
              "16  56680     6  170626  29.946934       ALS\n",
              "17  56680     7  370127  29.672890       ALS\n",
              "18  56680     8  273032  29.200851       ALS\n",
              "19  56680     9  230863  29.072641       ALS"
            ]
          },
          "execution_count": 132,
          "metadata": {},
          "output_type": "execute_result"
        }
      ],
      "source": [
        "all_recs_als[all_recs_als.user == 56680]"
      ]
    },
    {
      "cell_type": "markdown",
      "metadata": {
        "id": "o0eu992EO2VW"
      },
      "source": [
        "3. Are any non zero metrics? "
      ]
    },
    {
      "cell_type": "code",
      "execution_count": null,
      "metadata": {
        "colab": {
          "base_uri": "https://localhost:8080/",
          "height": 206
        },
        "id": "19_nZzf-LpQg",
        "outputId": "6056d9cf-f34b-4eac-a660-06babddf0035"
      },
      "outputs": [
        {
          "data": {
            "text/html": [
              "\n",
              "  <div id=\"df-c2944343-1598-4903-aff3-4751ac0c803d\">\n",
              "    <div class=\"colab-df-container\">\n",
              "      <div>\n",
              "<style scoped>\n",
              "    .dataframe tbody tr th:only-of-type {\n",
              "        vertical-align: middle;\n",
              "    }\n",
              "\n",
              "    .dataframe tbody tr th {\n",
              "        vertical-align: top;\n",
              "    }\n",
              "\n",
              "    .dataframe thead th {\n",
              "        text-align: right;\n",
              "    }\n",
              "</style>\n",
              "<table border=\"1\" class=\"dataframe\">\n",
              "  <thead>\n",
              "    <tr style=\"text-align: right;\">\n",
              "      <th></th>\n",
              "      <th></th>\n",
              "      <th>nrecs</th>\n",
              "      <th>recip_rank</th>\n",
              "      <th>ndcg</th>\n",
              "      <th>dcg</th>\n",
              "    </tr>\n",
              "    <tr>\n",
              "      <th>algorithm</th>\n",
              "      <th>user</th>\n",
              "      <th></th>\n",
              "      <th></th>\n",
              "      <th></th>\n",
              "      <th></th>\n",
              "    </tr>\n",
              "  </thead>\n",
              "  <tbody>\n",
              "    <tr>\n",
              "      <th rowspan=\"4\" valign=\"top\">ALS</th>\n",
              "      <th>64667</th>\n",
              "      <td>10</td>\n",
              "      <td>0.500000</td>\n",
              "      <td>1.000000</td>\n",
              "      <td>3.154649</td>\n",
              "    </tr>\n",
              "    <tr>\n",
              "      <th>280271</th>\n",
              "      <td>10</td>\n",
              "      <td>0.333333</td>\n",
              "      <td>0.048787</td>\n",
              "      <td>2.000000</td>\n",
              "    </tr>\n",
              "    <tr>\n",
              "      <th>199020</th>\n",
              "      <td>10</td>\n",
              "      <td>0.111111</td>\n",
              "      <td>0.058144</td>\n",
              "      <td>1.505150</td>\n",
              "    </tr>\n",
              "    <tr>\n",
              "      <th>1418189</th>\n",
              "      <td>10</td>\n",
              "      <td>0.500000</td>\n",
              "      <td>0.443976</td>\n",
              "      <td>3.154649</td>\n",
              "    </tr>\n",
              "  </tbody>\n",
              "</table>\n",
              "</div>\n",
              "      <button class=\"colab-df-convert\" onclick=\"convertToInteractive('df-c2944343-1598-4903-aff3-4751ac0c803d')\"\n",
              "              title=\"Convert this dataframe to an interactive table.\"\n",
              "              style=\"display:none;\">\n",
              "        \n",
              "  <svg xmlns=\"http://www.w3.org/2000/svg\" height=\"24px\"viewBox=\"0 0 24 24\"\n",
              "       width=\"24px\">\n",
              "    <path d=\"M0 0h24v24H0V0z\" fill=\"none\"/>\n",
              "    <path d=\"M18.56 5.44l.94 2.06.94-2.06 2.06-.94-2.06-.94-.94-2.06-.94 2.06-2.06.94zm-11 1L8.5 8.5l.94-2.06 2.06-.94-2.06-.94L8.5 2.5l-.94 2.06-2.06.94zm10 10l.94 2.06.94-2.06 2.06-.94-2.06-.94-.94-2.06-.94 2.06-2.06.94z\"/><path d=\"M17.41 7.96l-1.37-1.37c-.4-.4-.92-.59-1.43-.59-.52 0-1.04.2-1.43.59L10.3 9.45l-7.72 7.72c-.78.78-.78 2.05 0 2.83L4 21.41c.39.39.9.59 1.41.59.51 0 1.02-.2 1.41-.59l7.78-7.78 2.81-2.81c.8-.78.8-2.07 0-2.86zM5.41 20L4 18.59l7.72-7.72 1.47 1.35L5.41 20z\"/>\n",
              "  </svg>\n",
              "      </button>\n",
              "      \n",
              "  <style>\n",
              "    .colab-df-container {\n",
              "      display:flex;\n",
              "      flex-wrap:wrap;\n",
              "      gap: 12px;\n",
              "    }\n",
              "\n",
              "    .colab-df-convert {\n",
              "      background-color: #E8F0FE;\n",
              "      border: none;\n",
              "      border-radius: 50%;\n",
              "      cursor: pointer;\n",
              "      display: none;\n",
              "      fill: #1967D2;\n",
              "      height: 32px;\n",
              "      padding: 0 0 0 0;\n",
              "      width: 32px;\n",
              "    }\n",
              "\n",
              "    .colab-df-convert:hover {\n",
              "      background-color: #E2EBFA;\n",
              "      box-shadow: 0px 1px 2px rgba(60, 64, 67, 0.3), 0px 1px 3px 1px rgba(60, 64, 67, 0.15);\n",
              "      fill: #174EA6;\n",
              "    }\n",
              "\n",
              "    [theme=dark] .colab-df-convert {\n",
              "      background-color: #3B4455;\n",
              "      fill: #D2E3FC;\n",
              "    }\n",
              "\n",
              "    [theme=dark] .colab-df-convert:hover {\n",
              "      background-color: #434B5C;\n",
              "      box-shadow: 0px 1px 3px 1px rgba(0, 0, 0, 0.15);\n",
              "      filter: drop-shadow(0px 1px 2px rgba(0, 0, 0, 0.3));\n",
              "      fill: #FFFFFF;\n",
              "    }\n",
              "  </style>\n",
              "\n",
              "      <script>\n",
              "        const buttonEl =\n",
              "          document.querySelector('#df-c2944343-1598-4903-aff3-4751ac0c803d button.colab-df-convert');\n",
              "        buttonEl.style.display =\n",
              "          google.colab.kernel.accessAllowed ? 'block' : 'none';\n",
              "\n",
              "        async function convertToInteractive(key) {\n",
              "          const element = document.querySelector('#df-c2944343-1598-4903-aff3-4751ac0c803d');\n",
              "          const dataTable =\n",
              "            await google.colab.kernel.invokeFunction('convertToInteractive',\n",
              "                                                     [key], {});\n",
              "          if (!dataTable) return;\n",
              "\n",
              "          const docLinkHtml = 'Like what you see? Visit the ' +\n",
              "            '<a target=\"_blank\" href=https://colab.research.google.com/notebooks/data_table.ipynb>data table notebook</a>'\n",
              "            + ' to learn more about interactive tables.';\n",
              "          element.innerHTML = '';\n",
              "          dataTable['output_type'] = 'display_data';\n",
              "          await google.colab.output.renderOutput(dataTable, element);\n",
              "          const docLink = document.createElement('div');\n",
              "          docLink.innerHTML = docLinkHtml;\n",
              "          element.appendChild(docLink);\n",
              "        }\n",
              "      </script>\n",
              "    </div>\n",
              "  </div>\n",
              "  "
            ],
            "text/plain": [
              "                   nrecs  recip_rank      ndcg       dcg\n",
              "algorithm user                                          \n",
              "ALS       64667       10    0.500000  1.000000  3.154649\n",
              "          280271      10    0.333333  0.048787  2.000000\n",
              "          199020      10    0.111111  0.058144  1.505150\n",
              "          1418189     10    0.500000  0.443976  3.154649"
            ]
          },
          "execution_count": 133,
          "metadata": {},
          "output_type": "execute_result"
        }
      ],
      "source": [
        "results[results.ndcg > 0]"
      ]
    },
    {
      "cell_type": "code",
      "execution_count": null,
      "metadata": {
        "colab": {
          "base_uri": "https://localhost:8080/",
          "height": 206
        },
        "id": "QXYuoIpdO5HT",
        "outputId": "dca25427-82e8-4727-d8b4-6936ebc9e1fc"
      },
      "outputs": [
        {
          "data": {
            "text/html": [
              "\n",
              "  <div id=\"df-969442dd-d9c6-4f55-992b-83df3fa0f62d\">\n",
              "    <div class=\"colab-df-container\">\n",
              "      <div>\n",
              "<style scoped>\n",
              "    .dataframe tbody tr th:only-of-type {\n",
              "        vertical-align: middle;\n",
              "    }\n",
              "\n",
              "    .dataframe tbody tr th {\n",
              "        vertical-align: top;\n",
              "    }\n",
              "\n",
              "    .dataframe thead th {\n",
              "        text-align: right;\n",
              "    }\n",
              "</style>\n",
              "<table border=\"1\" class=\"dataframe\">\n",
              "  <thead>\n",
              "    <tr style=\"text-align: right;\">\n",
              "      <th></th>\n",
              "      <th></th>\n",
              "      <th>nrecs</th>\n",
              "      <th>recip_rank</th>\n",
              "      <th>ndcg</th>\n",
              "      <th>dcg</th>\n",
              "    </tr>\n",
              "    <tr>\n",
              "      <th>algorithm</th>\n",
              "      <th>user</th>\n",
              "      <th></th>\n",
              "      <th></th>\n",
              "      <th></th>\n",
              "      <th></th>\n",
              "    </tr>\n",
              "  </thead>\n",
              "  <tbody>\n",
              "    <tr>\n",
              "      <th rowspan=\"4\" valign=\"top\">ALS</th>\n",
              "      <th>64667</th>\n",
              "      <td>10</td>\n",
              "      <td>0.500000</td>\n",
              "      <td>1.000000</td>\n",
              "      <td>3.154649</td>\n",
              "    </tr>\n",
              "    <tr>\n",
              "      <th>280271</th>\n",
              "      <td>10</td>\n",
              "      <td>0.333333</td>\n",
              "      <td>0.048787</td>\n",
              "      <td>2.000000</td>\n",
              "    </tr>\n",
              "    <tr>\n",
              "      <th>199020</th>\n",
              "      <td>10</td>\n",
              "      <td>0.111111</td>\n",
              "      <td>0.058144</td>\n",
              "      <td>1.505150</td>\n",
              "    </tr>\n",
              "    <tr>\n",
              "      <th>1418189</th>\n",
              "      <td>10</td>\n",
              "      <td>0.500000</td>\n",
              "      <td>0.443976</td>\n",
              "      <td>3.154649</td>\n",
              "    </tr>\n",
              "  </tbody>\n",
              "</table>\n",
              "</div>\n",
              "      <button class=\"colab-df-convert\" onclick=\"convertToInteractive('df-969442dd-d9c6-4f55-992b-83df3fa0f62d')\"\n",
              "              title=\"Convert this dataframe to an interactive table.\"\n",
              "              style=\"display:none;\">\n",
              "        \n",
              "  <svg xmlns=\"http://www.w3.org/2000/svg\" height=\"24px\"viewBox=\"0 0 24 24\"\n",
              "       width=\"24px\">\n",
              "    <path d=\"M0 0h24v24H0V0z\" fill=\"none\"/>\n",
              "    <path d=\"M18.56 5.44l.94 2.06.94-2.06 2.06-.94-2.06-.94-.94-2.06-.94 2.06-2.06.94zm-11 1L8.5 8.5l.94-2.06 2.06-.94-2.06-.94L8.5 2.5l-.94 2.06-2.06.94zm10 10l.94 2.06.94-2.06 2.06-.94-2.06-.94-.94-2.06-.94 2.06-2.06.94z\"/><path d=\"M17.41 7.96l-1.37-1.37c-.4-.4-.92-.59-1.43-.59-.52 0-1.04.2-1.43.59L10.3 9.45l-7.72 7.72c-.78.78-.78 2.05 0 2.83L4 21.41c.39.39.9.59 1.41.59.51 0 1.02-.2 1.41-.59l7.78-7.78 2.81-2.81c.8-.78.8-2.07 0-2.86zM5.41 20L4 18.59l7.72-7.72 1.47 1.35L5.41 20z\"/>\n",
              "  </svg>\n",
              "      </button>\n",
              "      \n",
              "  <style>\n",
              "    .colab-df-container {\n",
              "      display:flex;\n",
              "      flex-wrap:wrap;\n",
              "      gap: 12px;\n",
              "    }\n",
              "\n",
              "    .colab-df-convert {\n",
              "      background-color: #E8F0FE;\n",
              "      border: none;\n",
              "      border-radius: 50%;\n",
              "      cursor: pointer;\n",
              "      display: none;\n",
              "      fill: #1967D2;\n",
              "      height: 32px;\n",
              "      padding: 0 0 0 0;\n",
              "      width: 32px;\n",
              "    }\n",
              "\n",
              "    .colab-df-convert:hover {\n",
              "      background-color: #E2EBFA;\n",
              "      box-shadow: 0px 1px 2px rgba(60, 64, 67, 0.3), 0px 1px 3px 1px rgba(60, 64, 67, 0.15);\n",
              "      fill: #174EA6;\n",
              "    }\n",
              "\n",
              "    [theme=dark] .colab-df-convert {\n",
              "      background-color: #3B4455;\n",
              "      fill: #D2E3FC;\n",
              "    }\n",
              "\n",
              "    [theme=dark] .colab-df-convert:hover {\n",
              "      background-color: #434B5C;\n",
              "      box-shadow: 0px 1px 3px 1px rgba(0, 0, 0, 0.15);\n",
              "      filter: drop-shadow(0px 1px 2px rgba(0, 0, 0, 0.3));\n",
              "      fill: #FFFFFF;\n",
              "    }\n",
              "  </style>\n",
              "\n",
              "      <script>\n",
              "        const buttonEl =\n",
              "          document.querySelector('#df-969442dd-d9c6-4f55-992b-83df3fa0f62d button.colab-df-convert');\n",
              "        buttonEl.style.display =\n",
              "          google.colab.kernel.accessAllowed ? 'block' : 'none';\n",
              "\n",
              "        async function convertToInteractive(key) {\n",
              "          const element = document.querySelector('#df-969442dd-d9c6-4f55-992b-83df3fa0f62d');\n",
              "          const dataTable =\n",
              "            await google.colab.kernel.invokeFunction('convertToInteractive',\n",
              "                                                     [key], {});\n",
              "          if (!dataTable) return;\n",
              "\n",
              "          const docLinkHtml = 'Like what you see? Visit the ' +\n",
              "            '<a target=\"_blank\" href=https://colab.research.google.com/notebooks/data_table.ipynb>data table notebook</a>'\n",
              "            + ' to learn more about interactive tables.';\n",
              "          element.innerHTML = '';\n",
              "          dataTable['output_type'] = 'display_data';\n",
              "          await google.colab.output.renderOutput(dataTable, element);\n",
              "          const docLink = document.createElement('div');\n",
              "          docLink.innerHTML = docLinkHtml;\n",
              "          element.appendChild(docLink);\n",
              "        }\n",
              "      </script>\n",
              "    </div>\n",
              "  </div>\n",
              "  "
            ],
            "text/plain": [
              "                   nrecs  recip_rank      ndcg       dcg\n",
              "algorithm user                                          \n",
              "ALS       64667       10    0.500000  1.000000  3.154649\n",
              "          280271      10    0.333333  0.048787  2.000000\n",
              "          199020      10    0.111111  0.058144  1.505150\n",
              "          1418189     10    0.500000  0.443976  3.154649"
            ]
          },
          "execution_count": 134,
          "metadata": {},
          "output_type": "execute_result"
        }
      ],
      "source": [
        "results[results.dcg > 0]"
      ]
    },
    {
      "cell_type": "code",
      "execution_count": null,
      "metadata": {
        "colab": {
          "base_uri": "https://localhost:8080/",
          "height": 206
        },
        "id": "4y7Y9S5fO75-",
        "outputId": "3a9d5ec1-d8e5-41c2-9d27-e9fc2a89ff75"
      },
      "outputs": [
        {
          "data": {
            "text/html": [
              "\n",
              "  <div id=\"df-c50b93d6-a482-4d64-9701-2e41ec021824\">\n",
              "    <div class=\"colab-df-container\">\n",
              "      <div>\n",
              "<style scoped>\n",
              "    .dataframe tbody tr th:only-of-type {\n",
              "        vertical-align: middle;\n",
              "    }\n",
              "\n",
              "    .dataframe tbody tr th {\n",
              "        vertical-align: top;\n",
              "    }\n",
              "\n",
              "    .dataframe thead th {\n",
              "        text-align: right;\n",
              "    }\n",
              "</style>\n",
              "<table border=\"1\" class=\"dataframe\">\n",
              "  <thead>\n",
              "    <tr style=\"text-align: right;\">\n",
              "      <th></th>\n",
              "      <th></th>\n",
              "      <th>nrecs</th>\n",
              "      <th>recip_rank</th>\n",
              "      <th>ndcg</th>\n",
              "      <th>dcg</th>\n",
              "    </tr>\n",
              "    <tr>\n",
              "      <th>algorithm</th>\n",
              "      <th>user</th>\n",
              "      <th></th>\n",
              "      <th></th>\n",
              "      <th></th>\n",
              "      <th></th>\n",
              "    </tr>\n",
              "  </thead>\n",
              "  <tbody>\n",
              "    <tr>\n",
              "      <th rowspan=\"4\" valign=\"top\">ALS</th>\n",
              "      <th>64667</th>\n",
              "      <td>10</td>\n",
              "      <td>0.500000</td>\n",
              "      <td>1.000000</td>\n",
              "      <td>3.154649</td>\n",
              "    </tr>\n",
              "    <tr>\n",
              "      <th>280271</th>\n",
              "      <td>10</td>\n",
              "      <td>0.333333</td>\n",
              "      <td>0.048787</td>\n",
              "      <td>2.000000</td>\n",
              "    </tr>\n",
              "    <tr>\n",
              "      <th>199020</th>\n",
              "      <td>10</td>\n",
              "      <td>0.111111</td>\n",
              "      <td>0.058144</td>\n",
              "      <td>1.505150</td>\n",
              "    </tr>\n",
              "    <tr>\n",
              "      <th>1418189</th>\n",
              "      <td>10</td>\n",
              "      <td>0.500000</td>\n",
              "      <td>0.443976</td>\n",
              "      <td>3.154649</td>\n",
              "    </tr>\n",
              "  </tbody>\n",
              "</table>\n",
              "</div>\n",
              "      <button class=\"colab-df-convert\" onclick=\"convertToInteractive('df-c50b93d6-a482-4d64-9701-2e41ec021824')\"\n",
              "              title=\"Convert this dataframe to an interactive table.\"\n",
              "              style=\"display:none;\">\n",
              "        \n",
              "  <svg xmlns=\"http://www.w3.org/2000/svg\" height=\"24px\"viewBox=\"0 0 24 24\"\n",
              "       width=\"24px\">\n",
              "    <path d=\"M0 0h24v24H0V0z\" fill=\"none\"/>\n",
              "    <path d=\"M18.56 5.44l.94 2.06.94-2.06 2.06-.94-2.06-.94-.94-2.06-.94 2.06-2.06.94zm-11 1L8.5 8.5l.94-2.06 2.06-.94-2.06-.94L8.5 2.5l-.94 2.06-2.06.94zm10 10l.94 2.06.94-2.06 2.06-.94-2.06-.94-.94-2.06-.94 2.06-2.06.94z\"/><path d=\"M17.41 7.96l-1.37-1.37c-.4-.4-.92-.59-1.43-.59-.52 0-1.04.2-1.43.59L10.3 9.45l-7.72 7.72c-.78.78-.78 2.05 0 2.83L4 21.41c.39.39.9.59 1.41.59.51 0 1.02-.2 1.41-.59l7.78-7.78 2.81-2.81c.8-.78.8-2.07 0-2.86zM5.41 20L4 18.59l7.72-7.72 1.47 1.35L5.41 20z\"/>\n",
              "  </svg>\n",
              "      </button>\n",
              "      \n",
              "  <style>\n",
              "    .colab-df-container {\n",
              "      display:flex;\n",
              "      flex-wrap:wrap;\n",
              "      gap: 12px;\n",
              "    }\n",
              "\n",
              "    .colab-df-convert {\n",
              "      background-color: #E8F0FE;\n",
              "      border: none;\n",
              "      border-radius: 50%;\n",
              "      cursor: pointer;\n",
              "      display: none;\n",
              "      fill: #1967D2;\n",
              "      height: 32px;\n",
              "      padding: 0 0 0 0;\n",
              "      width: 32px;\n",
              "    }\n",
              "\n",
              "    .colab-df-convert:hover {\n",
              "      background-color: #E2EBFA;\n",
              "      box-shadow: 0px 1px 2px rgba(60, 64, 67, 0.3), 0px 1px 3px 1px rgba(60, 64, 67, 0.15);\n",
              "      fill: #174EA6;\n",
              "    }\n",
              "\n",
              "    [theme=dark] .colab-df-convert {\n",
              "      background-color: #3B4455;\n",
              "      fill: #D2E3FC;\n",
              "    }\n",
              "\n",
              "    [theme=dark] .colab-df-convert:hover {\n",
              "      background-color: #434B5C;\n",
              "      box-shadow: 0px 1px 3px 1px rgba(0, 0, 0, 0.15);\n",
              "      filter: drop-shadow(0px 1px 2px rgba(0, 0, 0, 0.3));\n",
              "      fill: #FFFFFF;\n",
              "    }\n",
              "  </style>\n",
              "\n",
              "      <script>\n",
              "        const buttonEl =\n",
              "          document.querySelector('#df-c50b93d6-a482-4d64-9701-2e41ec021824 button.colab-df-convert');\n",
              "        buttonEl.style.display =\n",
              "          google.colab.kernel.accessAllowed ? 'block' : 'none';\n",
              "\n",
              "        async function convertToInteractive(key) {\n",
              "          const element = document.querySelector('#df-c50b93d6-a482-4d64-9701-2e41ec021824');\n",
              "          const dataTable =\n",
              "            await google.colab.kernel.invokeFunction('convertToInteractive',\n",
              "                                                     [key], {});\n",
              "          if (!dataTable) return;\n",
              "\n",
              "          const docLinkHtml = 'Like what you see? Visit the ' +\n",
              "            '<a target=\"_blank\" href=https://colab.research.google.com/notebooks/data_table.ipynb>data table notebook</a>'\n",
              "            + ' to learn more about interactive tables.';\n",
              "          element.innerHTML = '';\n",
              "          dataTable['output_type'] = 'display_data';\n",
              "          await google.colab.output.renderOutput(dataTable, element);\n",
              "          const docLink = document.createElement('div');\n",
              "          docLink.innerHTML = docLinkHtml;\n",
              "          element.appendChild(docLink);\n",
              "        }\n",
              "      </script>\n",
              "    </div>\n",
              "  </div>\n",
              "  "
            ],
            "text/plain": [
              "                   nrecs  recip_rank      ndcg       dcg\n",
              "algorithm user                                          \n",
              "ALS       64667       10    0.500000  1.000000  3.154649\n",
              "          280271      10    0.333333  0.048787  2.000000\n",
              "          199020      10    0.111111  0.058144  1.505150\n",
              "          1418189     10    0.500000  0.443976  3.154649"
            ]
          },
          "execution_count": 135,
          "metadata": {},
          "output_type": "execute_result"
        }
      ],
      "source": [
        "results[results.recip_rank > 0]"
      ]
    },
    {
      "cell_type": "markdown",
      "metadata": {
        "id": "BhfPblGRPCMR"
      },
      "source": [
        "Manually check one prediction"
      ]
    },
    {
      "cell_type": "code",
      "execution_count": null,
      "metadata": {
        "colab": {
          "base_uri": "https://localhost:8080/",
          "height": 191
        },
        "id": "FzeyHKAOO9dx",
        "outputId": "d8934c18-7763-4d2b-e954-d42b8d12cf35"
      },
      "outputs": [
        {
          "data": {
            "text/plain": [
              "[Row(name='blue cornbread'),\n",
              " Row(name='chocolaty and gooey brownies'),\n",
              " Row(name='jim s chicken provolone'),\n",
              " Row(name='kasha  buckwheat groats  breakfast cereal'),\n",
              " Row(name='mackinac island peanut butter fudge'),\n",
              " Row(name='mmmmm   muffins   more'),\n",
              " Row(name='pork tenderloin cutlets with cranberry maple sauce'),\n",
              " Row(name='scallop chowder'),\n",
              " Row(name='shrimp veracruz style  camarones a la veracruzana'),\n",
              " Row(name='teriyaki beef wraps')]"
            ]
          },
          "metadata": {},
          "output_type": "display_data"
        }
      ],
      "source": [
        "manual_recommendation_check(653438)"
      ]
    },
    {
      "cell_type": "markdown",
      "metadata": {
        "id": "oZKAlWtfPLBs"
      },
      "source": [
        "**Saving the models and predictions**"
      ]
    },
    {
      "cell_type": "code",
      "execution_count": null,
      "metadata": {
        "id": "WDSjChKUPGA0"
      },
      "outputs": [],
      "source": [
        "all_recs_als.to_csv(\"recommendation_als.csv\", # modify the path \n",
        "                    index=False)"
      ]
    },
    {
      "cell_type": "code",
      "execution_count": null,
      "metadata": {
        "id": "NSYfc1oXPSEJ"
      },
      "outputs": [],
      "source": [
        "model.save('ALS_model.model') # modify the path"
      ]
    },
    {
      "cell_type": "code",
      "execution_count": null,
      "metadata": {
        "id": "8HYMA3ZyPiej"
      },
      "outputs": [],
      "source": []
    }
  ],
  "metadata": {
    "colab": {
      "provenance": []
    },
    "kernelspec": {
      "display_name": "Python 3",
      "name": "python3"
    },
    "language_info": {
      "name": "python"
    }
  },
  "nbformat": 4,
  "nbformat_minor": 0
}
